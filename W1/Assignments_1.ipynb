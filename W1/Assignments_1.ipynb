{
 "cells": [
  {
   "cell_type": "markdown",
   "id": "c6ba205c",
   "metadata": {},
   "source": [
    "# Ex 1: \n",
    "Given an undirected graph with edges = [(1, 2), (1, 6), (2, 3), (2, 4), (2, 6), \n",
    "         (3, 4), (3, 5), (4, 8), (4, 9), (6, 7), (8, 9)]\n",
    "  \n",
    "1. Draw the given graph\n",
    "2. Print the total number of nodes in the graph\n",
    "3. Print the total number of edges in the graph\n",
    "4. Provide a list of all edges in the graph\n",
    "5. Find degree of a node 1\n",
    "6. Determine if the given graph is connected or if there are disconnected components. If disconnected, identify and describe each component\n",
    "7. Calculate and display the degree distribution for the entire graph. Explain what insights this distribution provides about the structure of the graph"
   ]
  },
  {
   "cell_type": "markdown",
   "id": "4bd8e9a3",
   "metadata": {},
   "source": [
    "# Ex 2: Using NetworkX, read file practice.txt \n",
    "\n",
    "In the practice1.txt, the format of each row: node - node - edge type\n",
    "\n",
    "Question:\n",
    "1. Draw the graph\n",
    "\n",
    "2. Print:\n",
    "    - The total number of nodes and edges\n",
    "    - Provide a list of all nodes\n",
    "\n",
    "3. Print all the neighbours of node David\n",
    "\n",
    "4. Print all the neighbours of node David who are its friends\n",
    "\n",
    "5. What is the degree of node David in the graph?\n",
    "\n",
    "6. What is the relation type between David and Amy?\n",
    "\n",
    "7. Is the graph a connected graph?\n",
    "\n",
    "8. What is the average degree of the nodes in the graph?\n",
    "\n",
    "9. Which nodes in the graph have a degree greater than 3?\n"
   ]
  }
 ],
 "metadata": {
  "kernelspec": {
   "display_name": "Python 3 (ipykernel)",
   "language": "python",
   "name": "python3"
  },
  "language_info": {
   "codemirror_mode": {
    "name": "ipython",
    "version": 3
   },
   "file_extension": ".py",
   "mimetype": "text/x-python",
   "name": "python",
   "nbconvert_exporter": "python",
   "pygments_lexer": "ipython3",
   "version": "3.8.16"
  }
 },
 "nbformat": 4,
 "nbformat_minor": 5
}
