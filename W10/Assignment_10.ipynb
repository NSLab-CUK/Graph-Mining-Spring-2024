{
 "cells": [
  {
   "cell_type": "markdown",
   "id": "e4fb53c5",
   "metadata": {},
   "source": [
    "# 1.Graph classification task\n",
    "# Dataset: Molecular_Sample.csv\n",
    "\n",
    "### 1.1. Extract graph features with eigenvector centrality, Katz centrality, Laplacian centrality\n",
    "### 1.2.Train model (SVM/MLP) with graph features as concatenation of above graph features,  with test_size = 0.3"
   ]
  },
  {
   "cell_type": "markdown",
   "id": "0a477d87",
   "metadata": {},
   "source": [
    "# 2. Graph regression task\n",
    "# Dataset: Molecular_Sample.csv\n",
    "\n",
    "### Train model (SVM/MLP) with graph features as summation of eigenvector centrality with test_size = 0.3"
   ]
  },
  {
   "cell_type": "markdown",
   "id": "e186c782",
   "metadata": {},
   "source": []
  }
 ],
 "metadata": {
  "kernelspec": {
   "display_name": "Python 3 (ipykernel)",
   "language": "python",
   "name": "python3"
  },
  "language_info": {
   "codemirror_mode": {
    "name": "ipython",
    "version": 3
   },
   "file_extension": ".py",
   "mimetype": "text/x-python",
   "name": "python",
   "nbconvert_exporter": "python",
   "pygments_lexer": "ipython3",
   "version": "3.8.16"
  }
 },
 "nbformat": 4,
 "nbformat_minor": 5
}
