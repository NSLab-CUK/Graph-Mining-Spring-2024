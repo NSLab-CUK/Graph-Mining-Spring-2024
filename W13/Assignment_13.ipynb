{
 "cells": [
  {
   "cell_type": "markdown",
   "id": "15740f39",
   "metadata": {},
   "source": [
    "# Implement metapath2vec, JUST, BHIN2vec, dynnode2vec and CTDNE with [Football](https://networkx.org/documentation/stable/auto_examples/graph/plot_football.html) dataset\n",
    "\n"
   ]
  }
 ],
 "metadata": {
  "kernelspec": {
   "display_name": "Python 3 (ipykernel)",
   "language": "python",
   "name": "python3"
  },
  "language_info": {
   "codemirror_mode": {
    "name": "ipython",
    "version": 3
   },
   "file_extension": ".py",
   "mimetype": "text/x-python",
   "name": "python",
   "nbconvert_exporter": "python",
   "pygments_lexer": "ipython3",
   "version": "3.8.16"
  }
 },
 "nbformat": 4,
 "nbformat_minor": 5
}
