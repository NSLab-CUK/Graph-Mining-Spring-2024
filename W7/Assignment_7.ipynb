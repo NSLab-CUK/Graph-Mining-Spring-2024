{
 "cells": [
  {
   "cell_type": "markdown",
   "id": "0d3cd0fd",
   "metadata": {},
   "source": [
    "# 1. Weisfeiler Lehman:\n",
    "### 1.1. Initialize graphs as the following image:\n",
    "![image info](./data/graph_1.png)\n",
    "\n",
    "G1.add_edges_from(\n",
    "    [\n",
    "        (1, 2, {\"label\": \"Friendship\"}),\n",
    "        (1, 3, {\"label\": \"Friendship\"}),\n",
    "        (1, 4, {\"label\": \"Friendship\"}),\n",
    "        (3, 4, {\"label\": \"Friendship\"}),\n",
    "    ]\n",
    ")\n",
    "G1_node_attributes = {\n",
    "    1: \"Thomas\",\n",
    "    2: \"Dolores\",\n",
    "    3: \"Jose\",\n",
    "    4: \"Jack\",\n",
    "}\n",
    "\n",
    "G2.add_edges_from(\n",
    "    [\n",
    "        (5, 6, {\"label\": \"Friendship\"}),\n",
    "        (5, 8, {\"label\": \"Friendship\"}),\n",
    "        (5, 7, {\"label\": \"Friendship\"}),\n",
    "        (6, 8, {\"label\": \"Friendship\"}),\n",
    "    ]\n",
    ")\n",
    "G2_node_attributes = {\n",
    "    5: \"Ming\",\n",
    "    6: \"Amy\",\n",
    "    7: \"Wyatt\",\n",
    "    8: \"Emily\",\n",
    "}\n",
    "\n",
    "### 1.2. Compute WL to compare 2 above graphs without labels\n",
    "### 1.3. Compute WL to compare 2 above graphs with node labels\n",
    "### 1.4. Compute WL to compare 2 above graphs with edge labels\n",
    "### 1.5. Compute 3-WL to compare 2 above graphs without labels"
   ]
  },
  {
   "cell_type": "markdown",
   "id": "9a1252ee",
   "metadata": {},
   "source": [
    "# 2. Other methods:\n",
    "### 2.1. Create graphs as the following image:\n",
    "![image info](./data/graph_2.png)\n",
    "\n",
    "### 2.2. Using Shortest Path Kernel to compare 2 above graphs\n",
    "\n",
    "### 2.3. Using Pyramid Match Graph Kernel to compare 2 above graphs\n",
    "\n",
    "### 2.4. Using Random Walk Kernel to compare 2 above graphs\n",
    "\n",
    "### 2.5. Using Graphlet Kernel to compare 2 above graphs"
   ]
  },
  {
   "cell_type": "markdown",
   "id": "8604f6de",
   "metadata": {},
   "source": []
  }
 ],
 "metadata": {
  "kernelspec": {
   "display_name": "Python 3 (ipykernel)",
   "language": "python",
   "name": "python3"
  },
  "language_info": {
   "codemirror_mode": {
    "name": "ipython",
    "version": 3
   },
   "file_extension": ".py",
   "mimetype": "text/x-python",
   "name": "python",
   "nbconvert_exporter": "python",
   "pygments_lexer": "ipython3",
   "version": "3.8.16"
  }
 },
 "nbformat": 4,
 "nbformat_minor": 5
}
