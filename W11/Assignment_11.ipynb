{
 "cells": [
  {
   "cell_type": "markdown",
   "id": "0fb0032a",
   "metadata": {},
   "source": [
    "# 1. Implement Deep Walk with Karate Club dataset "
   ]
  },
  {
   "cell_type": "markdown",
   "id": "15740f39",
   "metadata": {},
   "source": [
    "# 2. Implement node2vec, node2vec+, walklets, div2vec with [Football](https://networkx.org/documentation/stable/auto_examples/graph/plot_football.html) dataset\n",
    "\n"
   ]
  }
 ],
 "metadata": {
  "kernelspec": {
   "display_name": "Python 3 (ipykernel)",
   "language": "python",
   "name": "python3"
  },
  "language_info": {
   "codemirror_mode": {
    "name": "ipython",
    "version": 3
   },
   "file_extension": ".py",
   "mimetype": "text/x-python",
   "name": "python",
   "nbconvert_exporter": "python",
   "pygments_lexer": "ipython3",
   "version": "3.8.16"
  }
 },
 "nbformat": 4,
 "nbformat_minor": 5
}
