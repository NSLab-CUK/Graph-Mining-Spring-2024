{
 "cells": [
  {
   "cell_type": "markdown",
   "id": "15740f39",
   "metadata": {},
   "source": [
    "## 1. Given a undirected graph \n",
    "\n",
    "A graph has 12 nodes: {0,1,2,3,4,5,6,7,8,9,10,11} and the edge list: (0, 1), (0, 2), (0, 7), (1, 2), (1, 3), (2, 3), (3, 4), (4, 5), (4, 6), (5, 6), (6, 7), (7, 8), (8, 9), (9, 10), (10, 11).\n",
    "\n",
    "Question 1. Caculate the the modularity of a graph with three partition: [{1, 2, 3},{4, 5, 6},{0, 7}]\n",
    "\n",
    "Question 2. Find maximum clique in the graph.\n"
   ]
  },
  {
   "cell_type": "markdown",
   "id": "ad7ab71e",
   "metadata": {},
   "source": [
    "### 2. Read the Edge list file \"football.gml\", using the info file \"football.txt\".\n",
    "To extract info, you need to import zipfile from Python and use networkX parse_gml to parse gml data into networkX.\n",
    "\n",
    "Question 1. Compute communities using Louvain algorithm\n",
    "\n",
    "Question 2. Visualize the communities\n",
    "\n",
    "Question 3. Visualize the subgraphs for the communities. "
   ]
  },
  {
   "cell_type": "markdown",
   "id": "5301a0db-a5fa-4902-b776-9227a83faf6e",
   "metadata": {},
   "source": [
    "## 3. Read edge list file named: karate_edgelist.txt\n",
    "\n",
    "Question 1. Compute the local clustering coefficient.\n",
    "\n",
    "Question 2. Find all the nodes, which all neighbors of that node form a complete graph (fully connected to that node)."
   ]
  }
 ],
 "metadata": {
  "kernelspec": {
   "display_name": "Python 3 (ipykernel)",
   "language": "python",
   "name": "python3"
  },
  "language_info": {
   "codemirror_mode": {
    "name": "ipython",
    "version": 3
   },
   "file_extension": ".py",
   "mimetype": "text/x-python",
   "name": "python",
   "nbconvert_exporter": "python",
   "pygments_lexer": "ipython3",
   "version": "3.11.7"
  }
 },
 "nbformat": 4,
 "nbformat_minor": 5
}
