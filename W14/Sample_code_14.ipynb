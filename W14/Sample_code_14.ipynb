{
  "nbformat": 4,
  "nbformat_minor": 0,
  "metadata": {
    "colab": {
      "provenance": []
    },
    "kernelspec": {
      "name": "python3",
      "display_name": "Python 3"
    },
    "language_info": {
      "name": "python"
    }
  },
  "cells": [
    {
      "cell_type": "markdown",
      "source": [
        "# Graph Representations\n",
        "---"
      ],
      "metadata": {
        "id": "ZYcNdVNz0zh7"
      }
    },
    {
      "cell_type": "markdown",
      "source": [
        "## 1. Generate adjacency dense matrix of directed graph"
      ],
      "metadata": {
        "id": "QlUd3_tk05ww"
      }
    },
    {
      "cell_type": "code",
      "execution_count": 1,
      "metadata": {
        "colab": {
          "base_uri": "https://localhost:8080/",
          "height": 244
        },
        "id": "-zjAO2TJv0_U",
        "outputId": "1ddefe12-c5d3-4d36-bb08-8633a66d03f7"
      },
      "outputs": [
        {
          "output_type": "stream",
          "name": "stdout",
          "text": [
            "[[0 1 0 0]\n",
            " [1 0 0 0]\n",
            " [0 1 0 1]\n",
            " [0 0 0 0]]\n"
          ]
        },
        {
          "output_type": "execute_result",
          "data": {
            "text/plain": [
              "     A    B    C    D\n",
              "A  0.0  1.0  0.0  0.0\n",
              "B  1.0  0.0  0.0  0.0\n",
              "C  0.0  1.0  0.0  1.0\n",
              "D  0.0  0.0  0.0  0.0"
            ],
            "text/html": [
              "\n",
              "  <div id=\"df-63b1c699-92ba-40b4-9ee1-fcd046f67c98\" class=\"colab-df-container\">\n",
              "    <div>\n",
              "<style scoped>\n",
              "    .dataframe tbody tr th:only-of-type {\n",
              "        vertical-align: middle;\n",
              "    }\n",
              "\n",
              "    .dataframe tbody tr th {\n",
              "        vertical-align: top;\n",
              "    }\n",
              "\n",
              "    .dataframe thead th {\n",
              "        text-align: right;\n",
              "    }\n",
              "</style>\n",
              "<table border=\"1\" class=\"dataframe\">\n",
              "  <thead>\n",
              "    <tr style=\"text-align: right;\">\n",
              "      <th></th>\n",
              "      <th>A</th>\n",
              "      <th>B</th>\n",
              "      <th>C</th>\n",
              "      <th>D</th>\n",
              "    </tr>\n",
              "  </thead>\n",
              "  <tbody>\n",
              "    <tr>\n",
              "      <th>A</th>\n",
              "      <td>0.0</td>\n",
              "      <td>1.0</td>\n",
              "      <td>0.0</td>\n",
              "      <td>0.0</td>\n",
              "    </tr>\n",
              "    <tr>\n",
              "      <th>B</th>\n",
              "      <td>1.0</td>\n",
              "      <td>0.0</td>\n",
              "      <td>0.0</td>\n",
              "      <td>0.0</td>\n",
              "    </tr>\n",
              "    <tr>\n",
              "      <th>C</th>\n",
              "      <td>0.0</td>\n",
              "      <td>1.0</td>\n",
              "      <td>0.0</td>\n",
              "      <td>1.0</td>\n",
              "    </tr>\n",
              "    <tr>\n",
              "      <th>D</th>\n",
              "      <td>0.0</td>\n",
              "      <td>0.0</td>\n",
              "      <td>0.0</td>\n",
              "      <td>0.0</td>\n",
              "    </tr>\n",
              "  </tbody>\n",
              "</table>\n",
              "</div>\n",
              "    <div class=\"colab-df-buttons\">\n",
              "\n",
              "  <div class=\"colab-df-container\">\n",
              "    <button class=\"colab-df-convert\" onclick=\"convertToInteractive('df-63b1c699-92ba-40b4-9ee1-fcd046f67c98')\"\n",
              "            title=\"Convert this dataframe to an interactive table.\"\n",
              "            style=\"display:none;\">\n",
              "\n",
              "  <svg xmlns=\"http://www.w3.org/2000/svg\" height=\"24px\" viewBox=\"0 -960 960 960\">\n",
              "    <path d=\"M120-120v-720h720v720H120Zm60-500h600v-160H180v160Zm220 220h160v-160H400v160Zm0 220h160v-160H400v160ZM180-400h160v-160H180v160Zm440 0h160v-160H620v160ZM180-180h160v-160H180v160Zm440 0h160v-160H620v160Z\"/>\n",
              "  </svg>\n",
              "    </button>\n",
              "\n",
              "  <style>\n",
              "    .colab-df-container {\n",
              "      display:flex;\n",
              "      gap: 12px;\n",
              "    }\n",
              "\n",
              "    .colab-df-convert {\n",
              "      background-color: #E8F0FE;\n",
              "      border: none;\n",
              "      border-radius: 50%;\n",
              "      cursor: pointer;\n",
              "      display: none;\n",
              "      fill: #1967D2;\n",
              "      height: 32px;\n",
              "      padding: 0 0 0 0;\n",
              "      width: 32px;\n",
              "    }\n",
              "\n",
              "    .colab-df-convert:hover {\n",
              "      background-color: #E2EBFA;\n",
              "      box-shadow: 0px 1px 2px rgba(60, 64, 67, 0.3), 0px 1px 3px 1px rgba(60, 64, 67, 0.15);\n",
              "      fill: #174EA6;\n",
              "    }\n",
              "\n",
              "    .colab-df-buttons div {\n",
              "      margin-bottom: 4px;\n",
              "    }\n",
              "\n",
              "    [theme=dark] .colab-df-convert {\n",
              "      background-color: #3B4455;\n",
              "      fill: #D2E3FC;\n",
              "    }\n",
              "\n",
              "    [theme=dark] .colab-df-convert:hover {\n",
              "      background-color: #434B5C;\n",
              "      box-shadow: 0px 1px 3px 1px rgba(0, 0, 0, 0.15);\n",
              "      filter: drop-shadow(0px 1px 2px rgba(0, 0, 0, 0.3));\n",
              "      fill: #FFFFFF;\n",
              "    }\n",
              "  </style>\n",
              "\n",
              "    <script>\n",
              "      const buttonEl =\n",
              "        document.querySelector('#df-63b1c699-92ba-40b4-9ee1-fcd046f67c98 button.colab-df-convert');\n",
              "      buttonEl.style.display =\n",
              "        google.colab.kernel.accessAllowed ? 'block' : 'none';\n",
              "\n",
              "      async function convertToInteractive(key) {\n",
              "        const element = document.querySelector('#df-63b1c699-92ba-40b4-9ee1-fcd046f67c98');\n",
              "        const dataTable =\n",
              "          await google.colab.kernel.invokeFunction('convertToInteractive',\n",
              "                                                    [key], {});\n",
              "        if (!dataTable) return;\n",
              "\n",
              "        const docLinkHtml = 'Like what you see? Visit the ' +\n",
              "          '<a target=\"_blank\" href=https://colab.research.google.com/notebooks/data_table.ipynb>data table notebook</a>'\n",
              "          + ' to learn more about interactive tables.';\n",
              "        element.innerHTML = '';\n",
              "        dataTable['output_type'] = 'display_data';\n",
              "        await google.colab.output.renderOutput(dataTable, element);\n",
              "        const docLink = document.createElement('div');\n",
              "        docLink.innerHTML = docLinkHtml;\n",
              "        element.appendChild(docLink);\n",
              "      }\n",
              "    </script>\n",
              "  </div>\n",
              "\n",
              "\n",
              "<div id=\"df-4da166ce-674e-4038-83a4-d2b05cbbec68\">\n",
              "  <button class=\"colab-df-quickchart\" onclick=\"quickchart('df-4da166ce-674e-4038-83a4-d2b05cbbec68')\"\n",
              "            title=\"Suggest charts\"\n",
              "            style=\"display:none;\">\n",
              "\n",
              "<svg xmlns=\"http://www.w3.org/2000/svg\" height=\"24px\"viewBox=\"0 0 24 24\"\n",
              "     width=\"24px\">\n",
              "    <g>\n",
              "        <path d=\"M19 3H5c-1.1 0-2 .9-2 2v14c0 1.1.9 2 2 2h14c1.1 0 2-.9 2-2V5c0-1.1-.9-2-2-2zM9 17H7v-7h2v7zm4 0h-2V7h2v10zm4 0h-2v-4h2v4z\"/>\n",
              "    </g>\n",
              "</svg>\n",
              "  </button>\n",
              "\n",
              "<style>\n",
              "  .colab-df-quickchart {\n",
              "      --bg-color: #E8F0FE;\n",
              "      --fill-color: #1967D2;\n",
              "      --hover-bg-color: #E2EBFA;\n",
              "      --hover-fill-color: #174EA6;\n",
              "      --disabled-fill-color: #AAA;\n",
              "      --disabled-bg-color: #DDD;\n",
              "  }\n",
              "\n",
              "  [theme=dark] .colab-df-quickchart {\n",
              "      --bg-color: #3B4455;\n",
              "      --fill-color: #D2E3FC;\n",
              "      --hover-bg-color: #434B5C;\n",
              "      --hover-fill-color: #FFFFFF;\n",
              "      --disabled-bg-color: #3B4455;\n",
              "      --disabled-fill-color: #666;\n",
              "  }\n",
              "\n",
              "  .colab-df-quickchart {\n",
              "    background-color: var(--bg-color);\n",
              "    border: none;\n",
              "    border-radius: 50%;\n",
              "    cursor: pointer;\n",
              "    display: none;\n",
              "    fill: var(--fill-color);\n",
              "    height: 32px;\n",
              "    padding: 0;\n",
              "    width: 32px;\n",
              "  }\n",
              "\n",
              "  .colab-df-quickchart:hover {\n",
              "    background-color: var(--hover-bg-color);\n",
              "    box-shadow: 0 1px 2px rgba(60, 64, 67, 0.3), 0 1px 3px 1px rgba(60, 64, 67, 0.15);\n",
              "    fill: var(--button-hover-fill-color);\n",
              "  }\n",
              "\n",
              "  .colab-df-quickchart-complete:disabled,\n",
              "  .colab-df-quickchart-complete:disabled:hover {\n",
              "    background-color: var(--disabled-bg-color);\n",
              "    fill: var(--disabled-fill-color);\n",
              "    box-shadow: none;\n",
              "  }\n",
              "\n",
              "  .colab-df-spinner {\n",
              "    border: 2px solid var(--fill-color);\n",
              "    border-color: transparent;\n",
              "    border-bottom-color: var(--fill-color);\n",
              "    animation:\n",
              "      spin 1s steps(1) infinite;\n",
              "  }\n",
              "\n",
              "  @keyframes spin {\n",
              "    0% {\n",
              "      border-color: transparent;\n",
              "      border-bottom-color: var(--fill-color);\n",
              "      border-left-color: var(--fill-color);\n",
              "    }\n",
              "    20% {\n",
              "      border-color: transparent;\n",
              "      border-left-color: var(--fill-color);\n",
              "      border-top-color: var(--fill-color);\n",
              "    }\n",
              "    30% {\n",
              "      border-color: transparent;\n",
              "      border-left-color: var(--fill-color);\n",
              "      border-top-color: var(--fill-color);\n",
              "      border-right-color: var(--fill-color);\n",
              "    }\n",
              "    40% {\n",
              "      border-color: transparent;\n",
              "      border-right-color: var(--fill-color);\n",
              "      border-top-color: var(--fill-color);\n",
              "    }\n",
              "    60% {\n",
              "      border-color: transparent;\n",
              "      border-right-color: var(--fill-color);\n",
              "    }\n",
              "    80% {\n",
              "      border-color: transparent;\n",
              "      border-right-color: var(--fill-color);\n",
              "      border-bottom-color: var(--fill-color);\n",
              "    }\n",
              "    90% {\n",
              "      border-color: transparent;\n",
              "      border-bottom-color: var(--fill-color);\n",
              "    }\n",
              "  }\n",
              "</style>\n",
              "\n",
              "  <script>\n",
              "    async function quickchart(key) {\n",
              "      const quickchartButtonEl =\n",
              "        document.querySelector('#' + key + ' button');\n",
              "      quickchartButtonEl.disabled = true;  // To prevent multiple clicks.\n",
              "      quickchartButtonEl.classList.add('colab-df-spinner');\n",
              "      try {\n",
              "        const charts = await google.colab.kernel.invokeFunction(\n",
              "            'suggestCharts', [key], {});\n",
              "      } catch (error) {\n",
              "        console.error('Error during call to suggestCharts:', error);\n",
              "      }\n",
              "      quickchartButtonEl.classList.remove('colab-df-spinner');\n",
              "      quickchartButtonEl.classList.add('colab-df-quickchart-complete');\n",
              "    }\n",
              "    (() => {\n",
              "      let quickchartButtonEl =\n",
              "        document.querySelector('#df-4da166ce-674e-4038-83a4-d2b05cbbec68 button');\n",
              "      quickchartButtonEl.style.display =\n",
              "        google.colab.kernel.accessAllowed ? 'block' : 'none';\n",
              "    })();\n",
              "  </script>\n",
              "</div>\n",
              "\n",
              "    </div>\n",
              "  </div>\n"
            ],
            "application/vnd.google.colaboratory.intrinsic+json": {
              "type": "dataframe",
              "summary": "{\n  \"name\": \"nx\",\n  \"rows\": 4,\n  \"fields\": [\n    {\n      \"column\": \"A\",\n      \"properties\": {\n        \"dtype\": \"number\",\n        \"std\": 0.5,\n        \"min\": 0.0,\n        \"max\": 1.0,\n        \"num_unique_values\": 2,\n        \"samples\": [\n          1.0,\n          0.0\n        ],\n        \"semantic_type\": \"\",\n        \"description\": \"\"\n      }\n    },\n    {\n      \"column\": \"B\",\n      \"properties\": {\n        \"dtype\": \"number\",\n        \"std\": 0.5773502691896257,\n        \"min\": 0.0,\n        \"max\": 1.0,\n        \"num_unique_values\": 2,\n        \"samples\": [\n          0.0,\n          1.0\n        ],\n        \"semantic_type\": \"\",\n        \"description\": \"\"\n      }\n    },\n    {\n      \"column\": \"C\",\n      \"properties\": {\n        \"dtype\": \"number\",\n        \"std\": 0.0,\n        \"min\": 0.0,\n        \"max\": 0.0,\n        \"num_unique_values\": 1,\n        \"samples\": [\n          0.0\n        ],\n        \"semantic_type\": \"\",\n        \"description\": \"\"\n      }\n    },\n    {\n      \"column\": \"D\",\n      \"properties\": {\n        \"dtype\": \"number\",\n        \"std\": 0.5,\n        \"min\": 0.0,\n        \"max\": 1.0,\n        \"num_unique_values\": 2,\n        \"samples\": [\n          1.0\n        ],\n        \"semantic_type\": \"\",\n        \"description\": \"\"\n      }\n    }\n  ]\n}"
            }
          },
          "metadata": {},
          "execution_count": 1
        }
      ],
      "source": [
        "import networkx as nx\n",
        "import numpy as np\n",
        "import pandas as pd\n",
        "import matplotlib.pyplot as plt\n",
        "\n",
        "# Instantiate the graph\n",
        "G = nx.DiGraph()\n",
        "\n",
        "# add node/edge pairs\n",
        "G.add_edges_from([(\"A\", \"B\"), (\"B\", \"A\"), (\"C\", \"B\"), (\"C\", \"D\")])\n",
        "\n",
        "# 2D array adjacency matrix\n",
        "A = nx.adjacency_matrix(G)\n",
        "A_dense = A.todense()\n",
        "print(A_dense)\n",
        "\n",
        "# Pandas format of adjacency matrix\n",
        "nx.to_pandas_adjacency(G)"
      ]
    },
    {
      "cell_type": "markdown",
      "source": [
        "## 2. Calculate the number of IN-edges, OUT-edges, add edge and remove edge."
      ],
      "metadata": {
        "id": "ajyE-EHZ1C6s"
      }
    },
    {
      "cell_type": "code",
      "source": [
        "# Instantiate the graph\n",
        "G = nx.DiGraph()\n",
        "# add node/edge pairs\n",
        "G.add_edges_from([(\"A\", \"B\"), (\"B\", \"A\"), (\"C\", \"B\"), (\"C\", \"D\")])\n",
        "\n",
        "# Get a vertex’s out-edges:\n",
        "print(f\"OUT-edges of node B: {G.out_degree('B')}\")\n",
        "\n",
        "# Get a vertex’s in-edges:\n",
        "print(f\"IN-edges of node B: {G.in_degree('B')}\")\n",
        "\n",
        "# Decide if some edge exists:\n",
        "print(f\"Check an edge from A to C: {G.has_edge('A', 'C')}\")\n",
        "\n",
        "# Insert an edge:\n",
        "G.add_edge(\"A\", \"C\")\n",
        "# OR\n",
        "G.add_edges_from([(\"A\", \"D\")])\n",
        "print(f\"Check an edge from A to C: {G.has_edge('A', 'C')}\")\n",
        "print(f\"Check an edge from A to D: {G.has_edge('A', 'D')}\")\n",
        "# Delete an edge:\n",
        "G.remove_edge(\"A\", \"C\")\n",
        "# OR\n",
        "G.remove_edges_from([(\"A\", \"D\")])\n",
        "print(f\"Check an edge from A to C: {G.has_edge('A', 'C')}\")\n",
        "print(f\"Check an edge from A to D: {G.has_edge('A', 'D')}\")"
      ],
      "metadata": {
        "colab": {
          "base_uri": "https://localhost:8080/"
        },
        "id": "anecvlgn1B5E",
        "outputId": "a1be7703-bf0a-482b-ff67-a93867382696"
      },
      "execution_count": 2,
      "outputs": [
        {
          "output_type": "stream",
          "name": "stdout",
          "text": [
            "OUT-edges of node B: 1\n",
            "IN-edges of node B: 2\n",
            "Check an edge from A to C: False\n",
            "Check an edge from A to C: True\n",
            "Check an edge from A to D: True\n",
            "Check an edge from A to C: False\n",
            "Check an edge from A to D: False\n"
          ]
        }
      ]
    },
    {
      "cell_type": "markdown",
      "source": [
        "## 3. Display sparse and dense adjacency matrix of a directed graph"
      ],
      "metadata": {
        "id": "pBWf4s8N1Ixo"
      }
    },
    {
      "cell_type": "code",
      "source": [
        "# Instantiate the graph\n",
        "G = nx.DiGraph()\n",
        "# add node/edge pairs\n",
        "G.add_edges_from([(0, 1), (1, 0), (2, 1), (2, 3)])\n",
        "\n",
        "adjacency_list = nx.generate_adjlist(G)\n",
        "for line in adjacency_list:\n",
        "    print(line)\n",
        "\n",
        "A = nx.adjacency_matrix(G)\n",
        "print(A)\n",
        "\n",
        "# Pandas format of adjacency matrix\n",
        "nx.to_pandas_adjacency(G)"
      ],
      "metadata": {
        "colab": {
          "base_uri": "https://localhost:8080/",
          "height": 314
        },
        "id": "Tu5a0Ljq1OC-",
        "outputId": "7daedb61-6dc0-4cd6-8f9f-790d6e6486e8"
      },
      "execution_count": 42,
      "outputs": [
        {
          "output_type": "stream",
          "name": "stdout",
          "text": [
            "0 1\n",
            "1 0\n",
            "2 1 3\n",
            "3\n",
            "  (0, 1)\t1\n",
            "  (1, 0)\t1\n",
            "  (2, 1)\t1\n",
            "  (2, 3)\t1\n"
          ]
        },
        {
          "output_type": "execute_result",
          "data": {
            "text/plain": [
              "     0    1    2    3\n",
              "0  0.0  1.0  0.0  0.0\n",
              "1  1.0  0.0  0.0  0.0\n",
              "2  0.0  1.0  0.0  1.0\n",
              "3  0.0  0.0  0.0  0.0"
            ],
            "text/html": [
              "\n",
              "  <div id=\"df-b1f4d1fd-a812-4022-83f1-5c0a5b31481c\" class=\"colab-df-container\">\n",
              "    <div>\n",
              "<style scoped>\n",
              "    .dataframe tbody tr th:only-of-type {\n",
              "        vertical-align: middle;\n",
              "    }\n",
              "\n",
              "    .dataframe tbody tr th {\n",
              "        vertical-align: top;\n",
              "    }\n",
              "\n",
              "    .dataframe thead th {\n",
              "        text-align: right;\n",
              "    }\n",
              "</style>\n",
              "<table border=\"1\" class=\"dataframe\">\n",
              "  <thead>\n",
              "    <tr style=\"text-align: right;\">\n",
              "      <th></th>\n",
              "      <th>0</th>\n",
              "      <th>1</th>\n",
              "      <th>2</th>\n",
              "      <th>3</th>\n",
              "    </tr>\n",
              "  </thead>\n",
              "  <tbody>\n",
              "    <tr>\n",
              "      <th>0</th>\n",
              "      <td>0.0</td>\n",
              "      <td>1.0</td>\n",
              "      <td>0.0</td>\n",
              "      <td>0.0</td>\n",
              "    </tr>\n",
              "    <tr>\n",
              "      <th>1</th>\n",
              "      <td>1.0</td>\n",
              "      <td>0.0</td>\n",
              "      <td>0.0</td>\n",
              "      <td>0.0</td>\n",
              "    </tr>\n",
              "    <tr>\n",
              "      <th>2</th>\n",
              "      <td>0.0</td>\n",
              "      <td>1.0</td>\n",
              "      <td>0.0</td>\n",
              "      <td>1.0</td>\n",
              "    </tr>\n",
              "    <tr>\n",
              "      <th>3</th>\n",
              "      <td>0.0</td>\n",
              "      <td>0.0</td>\n",
              "      <td>0.0</td>\n",
              "      <td>0.0</td>\n",
              "    </tr>\n",
              "  </tbody>\n",
              "</table>\n",
              "</div>\n",
              "    <div class=\"colab-df-buttons\">\n",
              "\n",
              "  <div class=\"colab-df-container\">\n",
              "    <button class=\"colab-df-convert\" onclick=\"convertToInteractive('df-b1f4d1fd-a812-4022-83f1-5c0a5b31481c')\"\n",
              "            title=\"Convert this dataframe to an interactive table.\"\n",
              "            style=\"display:none;\">\n",
              "\n",
              "  <svg xmlns=\"http://www.w3.org/2000/svg\" height=\"24px\" viewBox=\"0 -960 960 960\">\n",
              "    <path d=\"M120-120v-720h720v720H120Zm60-500h600v-160H180v160Zm220 220h160v-160H400v160Zm0 220h160v-160H400v160ZM180-400h160v-160H180v160Zm440 0h160v-160H620v160ZM180-180h160v-160H180v160Zm440 0h160v-160H620v160Z\"/>\n",
              "  </svg>\n",
              "    </button>\n",
              "\n",
              "  <style>\n",
              "    .colab-df-container {\n",
              "      display:flex;\n",
              "      gap: 12px;\n",
              "    }\n",
              "\n",
              "    .colab-df-convert {\n",
              "      background-color: #E8F0FE;\n",
              "      border: none;\n",
              "      border-radius: 50%;\n",
              "      cursor: pointer;\n",
              "      display: none;\n",
              "      fill: #1967D2;\n",
              "      height: 32px;\n",
              "      padding: 0 0 0 0;\n",
              "      width: 32px;\n",
              "    }\n",
              "\n",
              "    .colab-df-convert:hover {\n",
              "      background-color: #E2EBFA;\n",
              "      box-shadow: 0px 1px 2px rgba(60, 64, 67, 0.3), 0px 1px 3px 1px rgba(60, 64, 67, 0.15);\n",
              "      fill: #174EA6;\n",
              "    }\n",
              "\n",
              "    .colab-df-buttons div {\n",
              "      margin-bottom: 4px;\n",
              "    }\n",
              "\n",
              "    [theme=dark] .colab-df-convert {\n",
              "      background-color: #3B4455;\n",
              "      fill: #D2E3FC;\n",
              "    }\n",
              "\n",
              "    [theme=dark] .colab-df-convert:hover {\n",
              "      background-color: #434B5C;\n",
              "      box-shadow: 0px 1px 3px 1px rgba(0, 0, 0, 0.15);\n",
              "      filter: drop-shadow(0px 1px 2px rgba(0, 0, 0, 0.3));\n",
              "      fill: #FFFFFF;\n",
              "    }\n",
              "  </style>\n",
              "\n",
              "    <script>\n",
              "      const buttonEl =\n",
              "        document.querySelector('#df-b1f4d1fd-a812-4022-83f1-5c0a5b31481c button.colab-df-convert');\n",
              "      buttonEl.style.display =\n",
              "        google.colab.kernel.accessAllowed ? 'block' : 'none';\n",
              "\n",
              "      async function convertToInteractive(key) {\n",
              "        const element = document.querySelector('#df-b1f4d1fd-a812-4022-83f1-5c0a5b31481c');\n",
              "        const dataTable =\n",
              "          await google.colab.kernel.invokeFunction('convertToInteractive',\n",
              "                                                    [key], {});\n",
              "        if (!dataTable) return;\n",
              "\n",
              "        const docLinkHtml = 'Like what you see? Visit the ' +\n",
              "          '<a target=\"_blank\" href=https://colab.research.google.com/notebooks/data_table.ipynb>data table notebook</a>'\n",
              "          + ' to learn more about interactive tables.';\n",
              "        element.innerHTML = '';\n",
              "        dataTable['output_type'] = 'display_data';\n",
              "        await google.colab.output.renderOutput(dataTable, element);\n",
              "        const docLink = document.createElement('div');\n",
              "        docLink.innerHTML = docLinkHtml;\n",
              "        element.appendChild(docLink);\n",
              "      }\n",
              "    </script>\n",
              "  </div>\n",
              "\n",
              "\n",
              "<div id=\"df-066cd402-f7d6-4ab8-a4be-1f1c0add2aac\">\n",
              "  <button class=\"colab-df-quickchart\" onclick=\"quickchart('df-066cd402-f7d6-4ab8-a4be-1f1c0add2aac')\"\n",
              "            title=\"Suggest charts\"\n",
              "            style=\"display:none;\">\n",
              "\n",
              "<svg xmlns=\"http://www.w3.org/2000/svg\" height=\"24px\"viewBox=\"0 0 24 24\"\n",
              "     width=\"24px\">\n",
              "    <g>\n",
              "        <path d=\"M19 3H5c-1.1 0-2 .9-2 2v14c0 1.1.9 2 2 2h14c1.1 0 2-.9 2-2V5c0-1.1-.9-2-2-2zM9 17H7v-7h2v7zm4 0h-2V7h2v10zm4 0h-2v-4h2v4z\"/>\n",
              "    </g>\n",
              "</svg>\n",
              "  </button>\n",
              "\n",
              "<style>\n",
              "  .colab-df-quickchart {\n",
              "      --bg-color: #E8F0FE;\n",
              "      --fill-color: #1967D2;\n",
              "      --hover-bg-color: #E2EBFA;\n",
              "      --hover-fill-color: #174EA6;\n",
              "      --disabled-fill-color: #AAA;\n",
              "      --disabled-bg-color: #DDD;\n",
              "  }\n",
              "\n",
              "  [theme=dark] .colab-df-quickchart {\n",
              "      --bg-color: #3B4455;\n",
              "      --fill-color: #D2E3FC;\n",
              "      --hover-bg-color: #434B5C;\n",
              "      --hover-fill-color: #FFFFFF;\n",
              "      --disabled-bg-color: #3B4455;\n",
              "      --disabled-fill-color: #666;\n",
              "  }\n",
              "\n",
              "  .colab-df-quickchart {\n",
              "    background-color: var(--bg-color);\n",
              "    border: none;\n",
              "    border-radius: 50%;\n",
              "    cursor: pointer;\n",
              "    display: none;\n",
              "    fill: var(--fill-color);\n",
              "    height: 32px;\n",
              "    padding: 0;\n",
              "    width: 32px;\n",
              "  }\n",
              "\n",
              "  .colab-df-quickchart:hover {\n",
              "    background-color: var(--hover-bg-color);\n",
              "    box-shadow: 0 1px 2px rgba(60, 64, 67, 0.3), 0 1px 3px 1px rgba(60, 64, 67, 0.15);\n",
              "    fill: var(--button-hover-fill-color);\n",
              "  }\n",
              "\n",
              "  .colab-df-quickchart-complete:disabled,\n",
              "  .colab-df-quickchart-complete:disabled:hover {\n",
              "    background-color: var(--disabled-bg-color);\n",
              "    fill: var(--disabled-fill-color);\n",
              "    box-shadow: none;\n",
              "  }\n",
              "\n",
              "  .colab-df-spinner {\n",
              "    border: 2px solid var(--fill-color);\n",
              "    border-color: transparent;\n",
              "    border-bottom-color: var(--fill-color);\n",
              "    animation:\n",
              "      spin 1s steps(1) infinite;\n",
              "  }\n",
              "\n",
              "  @keyframes spin {\n",
              "    0% {\n",
              "      border-color: transparent;\n",
              "      border-bottom-color: var(--fill-color);\n",
              "      border-left-color: var(--fill-color);\n",
              "    }\n",
              "    20% {\n",
              "      border-color: transparent;\n",
              "      border-left-color: var(--fill-color);\n",
              "      border-top-color: var(--fill-color);\n",
              "    }\n",
              "    30% {\n",
              "      border-color: transparent;\n",
              "      border-left-color: var(--fill-color);\n",
              "      border-top-color: var(--fill-color);\n",
              "      border-right-color: var(--fill-color);\n",
              "    }\n",
              "    40% {\n",
              "      border-color: transparent;\n",
              "      border-right-color: var(--fill-color);\n",
              "      border-top-color: var(--fill-color);\n",
              "    }\n",
              "    60% {\n",
              "      border-color: transparent;\n",
              "      border-right-color: var(--fill-color);\n",
              "    }\n",
              "    80% {\n",
              "      border-color: transparent;\n",
              "      border-right-color: var(--fill-color);\n",
              "      border-bottom-color: var(--fill-color);\n",
              "    }\n",
              "    90% {\n",
              "      border-color: transparent;\n",
              "      border-bottom-color: var(--fill-color);\n",
              "    }\n",
              "  }\n",
              "</style>\n",
              "\n",
              "  <script>\n",
              "    async function quickchart(key) {\n",
              "      const quickchartButtonEl =\n",
              "        document.querySelector('#' + key + ' button');\n",
              "      quickchartButtonEl.disabled = true;  // To prevent multiple clicks.\n",
              "      quickchartButtonEl.classList.add('colab-df-spinner');\n",
              "      try {\n",
              "        const charts = await google.colab.kernel.invokeFunction(\n",
              "            'suggestCharts', [key], {});\n",
              "      } catch (error) {\n",
              "        console.error('Error during call to suggestCharts:', error);\n",
              "      }\n",
              "      quickchartButtonEl.classList.remove('colab-df-spinner');\n",
              "      quickchartButtonEl.classList.add('colab-df-quickchart-complete');\n",
              "    }\n",
              "    (() => {\n",
              "      let quickchartButtonEl =\n",
              "        document.querySelector('#df-066cd402-f7d6-4ab8-a4be-1f1c0add2aac button');\n",
              "      quickchartButtonEl.style.display =\n",
              "        google.colab.kernel.accessAllowed ? 'block' : 'none';\n",
              "    })();\n",
              "  </script>\n",
              "</div>\n",
              "\n",
              "    </div>\n",
              "  </div>\n"
            ],
            "application/vnd.google.colaboratory.intrinsic+json": {
              "type": "dataframe",
              "summary": "{\n  \"name\": \"nx\",\n  \"rows\": 4,\n  \"fields\": [\n    {\n      \"column\": 0,\n      \"properties\": {\n        \"dtype\": \"number\",\n        \"std\": 0.5,\n        \"min\": 0.0,\n        \"max\": 1.0,\n        \"num_unique_values\": 2,\n        \"samples\": [\n          1.0,\n          0.0\n        ],\n        \"semantic_type\": \"\",\n        \"description\": \"\"\n      }\n    },\n    {\n      \"column\": 1,\n      \"properties\": {\n        \"dtype\": \"number\",\n        \"std\": 0.5773502691896257,\n        \"min\": 0.0,\n        \"max\": 1.0,\n        \"num_unique_values\": 2,\n        \"samples\": [\n          0.0,\n          1.0\n        ],\n        \"semantic_type\": \"\",\n        \"description\": \"\"\n      }\n    },\n    {\n      \"column\": 2,\n      \"properties\": {\n        \"dtype\": \"number\",\n        \"std\": 0.0,\n        \"min\": 0.0,\n        \"max\": 0.0,\n        \"num_unique_values\": 1,\n        \"samples\": [\n          0.0\n        ],\n        \"semantic_type\": \"\",\n        \"description\": \"\"\n      }\n    },\n    {\n      \"column\": 3,\n      \"properties\": {\n        \"dtype\": \"number\",\n        \"std\": 0.5,\n        \"min\": 0.0,\n        \"max\": 1.0,\n        \"num_unique_values\": 2,\n        \"samples\": [\n          1.0\n        ],\n        \"semantic_type\": \"\",\n        \"description\": \"\"\n      }\n    }\n  ]\n}"
            }
          },
          "metadata": {},
          "execution_count": 42
        }
      ]
    },
    {
      "cell_type": "markdown",
      "source": [
        "## 4. Display adjacency list, sparse and dense adjacency matrix of an undirected graph\n",
        "\n",
        "\n",
        "\n"
      ],
      "metadata": {
        "id": "0PvRA71O1PNX"
      }
    },
    {
      "cell_type": "code",
      "source": [
        "# Instantiate the graph\n",
        "G = nx.Graph()\n",
        "# add node/edge pairs\n",
        "G.add_edges_from([(0, 1), (1, 0), (2, 1), (2, 3)])\n",
        "# Adjacency list\n",
        "adjacency_list = nx.generate_adjlist(G)\n",
        "for line in adjacency_list:\n",
        "    print(line)\n",
        "\n",
        "A = nx.adjacency_matrix(G)\n",
        "print(A)\n",
        "\n",
        "nx.to_pandas_adjacency(G)"
      ],
      "metadata": {
        "colab": {
          "base_uri": "https://localhost:8080/",
          "height": 348
        },
        "id": "wWBmtkuH9HcG",
        "outputId": "b35c95d5-c98b-45ee-9445-56ffa7728470"
      },
      "execution_count": 43,
      "outputs": [
        {
          "output_type": "stream",
          "name": "stdout",
          "text": [
            "0 1\n",
            "1 2\n",
            "2 3\n",
            "3\n",
            "  (0, 1)\t1\n",
            "  (1, 0)\t1\n",
            "  (1, 2)\t1\n",
            "  (2, 1)\t1\n",
            "  (2, 3)\t1\n",
            "  (3, 2)\t1\n"
          ]
        },
        {
          "output_type": "execute_result",
          "data": {
            "text/plain": [
              "     0    1    2    3\n",
              "0  0.0  1.0  0.0  0.0\n",
              "1  1.0  0.0  1.0  0.0\n",
              "2  0.0  1.0  0.0  1.0\n",
              "3  0.0  0.0  1.0  0.0"
            ],
            "text/html": [
              "\n",
              "  <div id=\"df-c030cdb9-7be2-486f-9bd7-358cc9343c6a\" class=\"colab-df-container\">\n",
              "    <div>\n",
              "<style scoped>\n",
              "    .dataframe tbody tr th:only-of-type {\n",
              "        vertical-align: middle;\n",
              "    }\n",
              "\n",
              "    .dataframe tbody tr th {\n",
              "        vertical-align: top;\n",
              "    }\n",
              "\n",
              "    .dataframe thead th {\n",
              "        text-align: right;\n",
              "    }\n",
              "</style>\n",
              "<table border=\"1\" class=\"dataframe\">\n",
              "  <thead>\n",
              "    <tr style=\"text-align: right;\">\n",
              "      <th></th>\n",
              "      <th>0</th>\n",
              "      <th>1</th>\n",
              "      <th>2</th>\n",
              "      <th>3</th>\n",
              "    </tr>\n",
              "  </thead>\n",
              "  <tbody>\n",
              "    <tr>\n",
              "      <th>0</th>\n",
              "      <td>0.0</td>\n",
              "      <td>1.0</td>\n",
              "      <td>0.0</td>\n",
              "      <td>0.0</td>\n",
              "    </tr>\n",
              "    <tr>\n",
              "      <th>1</th>\n",
              "      <td>1.0</td>\n",
              "      <td>0.0</td>\n",
              "      <td>1.0</td>\n",
              "      <td>0.0</td>\n",
              "    </tr>\n",
              "    <tr>\n",
              "      <th>2</th>\n",
              "      <td>0.0</td>\n",
              "      <td>1.0</td>\n",
              "      <td>0.0</td>\n",
              "      <td>1.0</td>\n",
              "    </tr>\n",
              "    <tr>\n",
              "      <th>3</th>\n",
              "      <td>0.0</td>\n",
              "      <td>0.0</td>\n",
              "      <td>1.0</td>\n",
              "      <td>0.0</td>\n",
              "    </tr>\n",
              "  </tbody>\n",
              "</table>\n",
              "</div>\n",
              "    <div class=\"colab-df-buttons\">\n",
              "\n",
              "  <div class=\"colab-df-container\">\n",
              "    <button class=\"colab-df-convert\" onclick=\"convertToInteractive('df-c030cdb9-7be2-486f-9bd7-358cc9343c6a')\"\n",
              "            title=\"Convert this dataframe to an interactive table.\"\n",
              "            style=\"display:none;\">\n",
              "\n",
              "  <svg xmlns=\"http://www.w3.org/2000/svg\" height=\"24px\" viewBox=\"0 -960 960 960\">\n",
              "    <path d=\"M120-120v-720h720v720H120Zm60-500h600v-160H180v160Zm220 220h160v-160H400v160Zm0 220h160v-160H400v160ZM180-400h160v-160H180v160Zm440 0h160v-160H620v160ZM180-180h160v-160H180v160Zm440 0h160v-160H620v160Z\"/>\n",
              "  </svg>\n",
              "    </button>\n",
              "\n",
              "  <style>\n",
              "    .colab-df-container {\n",
              "      display:flex;\n",
              "      gap: 12px;\n",
              "    }\n",
              "\n",
              "    .colab-df-convert {\n",
              "      background-color: #E8F0FE;\n",
              "      border: none;\n",
              "      border-radius: 50%;\n",
              "      cursor: pointer;\n",
              "      display: none;\n",
              "      fill: #1967D2;\n",
              "      height: 32px;\n",
              "      padding: 0 0 0 0;\n",
              "      width: 32px;\n",
              "    }\n",
              "\n",
              "    .colab-df-convert:hover {\n",
              "      background-color: #E2EBFA;\n",
              "      box-shadow: 0px 1px 2px rgba(60, 64, 67, 0.3), 0px 1px 3px 1px rgba(60, 64, 67, 0.15);\n",
              "      fill: #174EA6;\n",
              "    }\n",
              "\n",
              "    .colab-df-buttons div {\n",
              "      margin-bottom: 4px;\n",
              "    }\n",
              "\n",
              "    [theme=dark] .colab-df-convert {\n",
              "      background-color: #3B4455;\n",
              "      fill: #D2E3FC;\n",
              "    }\n",
              "\n",
              "    [theme=dark] .colab-df-convert:hover {\n",
              "      background-color: #434B5C;\n",
              "      box-shadow: 0px 1px 3px 1px rgba(0, 0, 0, 0.15);\n",
              "      filter: drop-shadow(0px 1px 2px rgba(0, 0, 0, 0.3));\n",
              "      fill: #FFFFFF;\n",
              "    }\n",
              "  </style>\n",
              "\n",
              "    <script>\n",
              "      const buttonEl =\n",
              "        document.querySelector('#df-c030cdb9-7be2-486f-9bd7-358cc9343c6a button.colab-df-convert');\n",
              "      buttonEl.style.display =\n",
              "        google.colab.kernel.accessAllowed ? 'block' : 'none';\n",
              "\n",
              "      async function convertToInteractive(key) {\n",
              "        const element = document.querySelector('#df-c030cdb9-7be2-486f-9bd7-358cc9343c6a');\n",
              "        const dataTable =\n",
              "          await google.colab.kernel.invokeFunction('convertToInteractive',\n",
              "                                                    [key], {});\n",
              "        if (!dataTable) return;\n",
              "\n",
              "        const docLinkHtml = 'Like what you see? Visit the ' +\n",
              "          '<a target=\"_blank\" href=https://colab.research.google.com/notebooks/data_table.ipynb>data table notebook</a>'\n",
              "          + ' to learn more about interactive tables.';\n",
              "        element.innerHTML = '';\n",
              "        dataTable['output_type'] = 'display_data';\n",
              "        await google.colab.output.renderOutput(dataTable, element);\n",
              "        const docLink = document.createElement('div');\n",
              "        docLink.innerHTML = docLinkHtml;\n",
              "        element.appendChild(docLink);\n",
              "      }\n",
              "    </script>\n",
              "  </div>\n",
              "\n",
              "\n",
              "<div id=\"df-f6082182-da22-4f0c-9b3f-22b26c21c547\">\n",
              "  <button class=\"colab-df-quickchart\" onclick=\"quickchart('df-f6082182-da22-4f0c-9b3f-22b26c21c547')\"\n",
              "            title=\"Suggest charts\"\n",
              "            style=\"display:none;\">\n",
              "\n",
              "<svg xmlns=\"http://www.w3.org/2000/svg\" height=\"24px\"viewBox=\"0 0 24 24\"\n",
              "     width=\"24px\">\n",
              "    <g>\n",
              "        <path d=\"M19 3H5c-1.1 0-2 .9-2 2v14c0 1.1.9 2 2 2h14c1.1 0 2-.9 2-2V5c0-1.1-.9-2-2-2zM9 17H7v-7h2v7zm4 0h-2V7h2v10zm4 0h-2v-4h2v4z\"/>\n",
              "    </g>\n",
              "</svg>\n",
              "  </button>\n",
              "\n",
              "<style>\n",
              "  .colab-df-quickchart {\n",
              "      --bg-color: #E8F0FE;\n",
              "      --fill-color: #1967D2;\n",
              "      --hover-bg-color: #E2EBFA;\n",
              "      --hover-fill-color: #174EA6;\n",
              "      --disabled-fill-color: #AAA;\n",
              "      --disabled-bg-color: #DDD;\n",
              "  }\n",
              "\n",
              "  [theme=dark] .colab-df-quickchart {\n",
              "      --bg-color: #3B4455;\n",
              "      --fill-color: #D2E3FC;\n",
              "      --hover-bg-color: #434B5C;\n",
              "      --hover-fill-color: #FFFFFF;\n",
              "      --disabled-bg-color: #3B4455;\n",
              "      --disabled-fill-color: #666;\n",
              "  }\n",
              "\n",
              "  .colab-df-quickchart {\n",
              "    background-color: var(--bg-color);\n",
              "    border: none;\n",
              "    border-radius: 50%;\n",
              "    cursor: pointer;\n",
              "    display: none;\n",
              "    fill: var(--fill-color);\n",
              "    height: 32px;\n",
              "    padding: 0;\n",
              "    width: 32px;\n",
              "  }\n",
              "\n",
              "  .colab-df-quickchart:hover {\n",
              "    background-color: var(--hover-bg-color);\n",
              "    box-shadow: 0 1px 2px rgba(60, 64, 67, 0.3), 0 1px 3px 1px rgba(60, 64, 67, 0.15);\n",
              "    fill: var(--button-hover-fill-color);\n",
              "  }\n",
              "\n",
              "  .colab-df-quickchart-complete:disabled,\n",
              "  .colab-df-quickchart-complete:disabled:hover {\n",
              "    background-color: var(--disabled-bg-color);\n",
              "    fill: var(--disabled-fill-color);\n",
              "    box-shadow: none;\n",
              "  }\n",
              "\n",
              "  .colab-df-spinner {\n",
              "    border: 2px solid var(--fill-color);\n",
              "    border-color: transparent;\n",
              "    border-bottom-color: var(--fill-color);\n",
              "    animation:\n",
              "      spin 1s steps(1) infinite;\n",
              "  }\n",
              "\n",
              "  @keyframes spin {\n",
              "    0% {\n",
              "      border-color: transparent;\n",
              "      border-bottom-color: var(--fill-color);\n",
              "      border-left-color: var(--fill-color);\n",
              "    }\n",
              "    20% {\n",
              "      border-color: transparent;\n",
              "      border-left-color: var(--fill-color);\n",
              "      border-top-color: var(--fill-color);\n",
              "    }\n",
              "    30% {\n",
              "      border-color: transparent;\n",
              "      border-left-color: var(--fill-color);\n",
              "      border-top-color: var(--fill-color);\n",
              "      border-right-color: var(--fill-color);\n",
              "    }\n",
              "    40% {\n",
              "      border-color: transparent;\n",
              "      border-right-color: var(--fill-color);\n",
              "      border-top-color: var(--fill-color);\n",
              "    }\n",
              "    60% {\n",
              "      border-color: transparent;\n",
              "      border-right-color: var(--fill-color);\n",
              "    }\n",
              "    80% {\n",
              "      border-color: transparent;\n",
              "      border-right-color: var(--fill-color);\n",
              "      border-bottom-color: var(--fill-color);\n",
              "    }\n",
              "    90% {\n",
              "      border-color: transparent;\n",
              "      border-bottom-color: var(--fill-color);\n",
              "    }\n",
              "  }\n",
              "</style>\n",
              "\n",
              "  <script>\n",
              "    async function quickchart(key) {\n",
              "      const quickchartButtonEl =\n",
              "        document.querySelector('#' + key + ' button');\n",
              "      quickchartButtonEl.disabled = true;  // To prevent multiple clicks.\n",
              "      quickchartButtonEl.classList.add('colab-df-spinner');\n",
              "      try {\n",
              "        const charts = await google.colab.kernel.invokeFunction(\n",
              "            'suggestCharts', [key], {});\n",
              "      } catch (error) {\n",
              "        console.error('Error during call to suggestCharts:', error);\n",
              "      }\n",
              "      quickchartButtonEl.classList.remove('colab-df-spinner');\n",
              "      quickchartButtonEl.classList.add('colab-df-quickchart-complete');\n",
              "    }\n",
              "    (() => {\n",
              "      let quickchartButtonEl =\n",
              "        document.querySelector('#df-f6082182-da22-4f0c-9b3f-22b26c21c547 button');\n",
              "      quickchartButtonEl.style.display =\n",
              "        google.colab.kernel.accessAllowed ? 'block' : 'none';\n",
              "    })();\n",
              "  </script>\n",
              "</div>\n",
              "\n",
              "    </div>\n",
              "  </div>\n"
            ],
            "application/vnd.google.colaboratory.intrinsic+json": {
              "type": "dataframe",
              "summary": "{\n  \"name\": \"nx\",\n  \"rows\": 4,\n  \"fields\": [\n    {\n      \"column\": 0,\n      \"properties\": {\n        \"dtype\": \"number\",\n        \"std\": 0.5,\n        \"min\": 0.0,\n        \"max\": 1.0,\n        \"num_unique_values\": 2,\n        \"samples\": [\n          1.0,\n          0.0\n        ],\n        \"semantic_type\": \"\",\n        \"description\": \"\"\n      }\n    },\n    {\n      \"column\": 1,\n      \"properties\": {\n        \"dtype\": \"number\",\n        \"std\": 0.5773502691896257,\n        \"min\": 0.0,\n        \"max\": 1.0,\n        \"num_unique_values\": 2,\n        \"samples\": [\n          0.0,\n          1.0\n        ],\n        \"semantic_type\": \"\",\n        \"description\": \"\"\n      }\n    },\n    {\n      \"column\": 2,\n      \"properties\": {\n        \"dtype\": \"number\",\n        \"std\": 0.5773502691896257,\n        \"min\": 0.0,\n        \"max\": 1.0,\n        \"num_unique_values\": 2,\n        \"samples\": [\n          1.0,\n          0.0\n        ],\n        \"semantic_type\": \"\",\n        \"description\": \"\"\n      }\n    },\n    {\n      \"column\": 3,\n      \"properties\": {\n        \"dtype\": \"number\",\n        \"std\": 0.5,\n        \"min\": 0.0,\n        \"max\": 1.0,\n        \"num_unique_values\": 2,\n        \"samples\": [\n          1.0,\n          0.0\n        ],\n        \"semantic_type\": \"\",\n        \"description\": \"\"\n      }\n    }\n  ]\n}"
            }
          },
          "metadata": {},
          "execution_count": 43
        }
      ]
    },
    {
      "cell_type": "markdown",
      "source": [
        "# Centrality Measurement\n",
        "---"
      ],
      "metadata": {
        "id": "AASLiguD1c_0"
      }
    },
    {
      "cell_type": "markdown",
      "source": [
        "## 1. Betweenness Centrality"
      ],
      "metadata": {
        "id": "fpFKLsu-9Kmf"
      }
    },
    {
      "cell_type": "code",
      "source": [
        "# Create a random graph with 10 nodes and 20 edges\n",
        "G = nx.gnm_random_graph(10, 20)\n",
        "\n",
        "# Calculate the betweenness centrality of each node\n",
        "betweenness_centrality = nx.betweenness_centrality(G)\n",
        "\n",
        "# Draw a graph\n",
        "nx.draw(G,with_labels = True)\n",
        "\n",
        "# Print the betweenness centrality of each node\n",
        "for node, centrality in betweenness_centrality.items():\n",
        "    print(f\"Node {node}: {centrality}\")\n"
      ],
      "metadata": {
        "colab": {
          "base_uri": "https://localhost:8080/",
          "height": 690
        },
        "id": "IYeU7CEC9NmJ",
        "outputId": "fe914689-5ead-43bb-fd2a-a3bf23b4e117"
      },
      "execution_count": 51,
      "outputs": [
        {
          "output_type": "stream",
          "name": "stdout",
          "text": [
            "Node 0: 0.21064814814814814\n",
            "Node 1: 0.07407407407407407\n",
            "Node 2: 0.24922839506172836\n",
            "Node 3: 0.11342592592592593\n",
            "Node 4: 0.0\n",
            "Node 5: 0.09953703703703703\n",
            "Node 6: 0.041666666666666664\n",
            "Node 7: 0.03317901234567901\n",
            "Node 8: 0.041666666666666664\n",
            "Node 9: 0.053240740740740734\n"
          ]
        },
        {
          "output_type": "display_data",
          "data": {
            "text/plain": [
              "<Figure size 640x480 with 1 Axes>"
            ],
            "image/png": "[encoded data removed]"
          },
          "metadata": {}
        }
      ]
    },
    {
      "cell_type": "markdown",
      "source": [
        "## 2. Closeness Centrality"
      ],
      "metadata": {
        "id": "ZgoXOLuV9N55"
      }
    },
    {
      "cell_type": "code",
      "source": [
        "G = nx.Graph()\n",
        "# add node/edge pairs\n",
        "G.add_edges_from([(0, 1),\n",
        "                   (1, 2),\n",
        "                   (2, 3),\n",
        "                   (3, 4)])\n",
        "\n",
        "# Draw a graph\n",
        "nx.draw(G,with_labels = True)\n",
        "\n",
        "# Calculate closeness centrality\n",
        "closeness_centrality = nx.closeness_centrality(G)\n",
        "\n",
        "# Print the result\n",
        "print(\"Closeness centrality: \", closeness_centrality)"
      ],
      "metadata": {
        "colab": {
          "base_uri": "https://localhost:8080/",
          "height": 533
        },
        "id": "MjEg_9LR9P4F",
        "outputId": "9b000ece-6690-4228-bc95-a2ce87f0bb43"
      },
      "execution_count": 44,
      "outputs": [
        {
          "output_type": "stream",
          "name": "stdout",
          "text": [
            "Closeness centrality:  {0: 0.4, 1: 0.5714285714285714, 2: 0.6666666666666666, 3: 0.5714285714285714, 4: 0.4}\n"
          ]
        },
        {
          "output_type": "display_data",
          "data": {
            "text/plain": [
              "<Figure size 640x480 with 1 Axes>"
            ],
            "image/png": "[encoded data removed]"
          },
          "metadata": {}
        }
      ]
    },
    {
      "cell_type": "markdown",
      "source": [
        "## 3. PageRank Centrality"
      ],
      "metadata": {
        "id": "H52Scx2e9QKV"
      }
    },
    {
      "cell_type": "code",
      "source": [
        "# Create a graph\n",
        "G = nx.Graph()\n",
        "# add node/edge pairs\n",
        "G.add_edges_from([(0, 1),\n",
        "                   (0, 2),\n",
        "                   (0, 3),\n",
        "                   (0, 5),\n",
        "                   (1, 3),\n",
        "                   (1, 6),\n",
        "                   (3, 4),\n",
        "                   (4, 5),\n",
        "                   (4, 7),\n",
        "                   (5, 8),\n",
        "                   (8, 9)])\n",
        "\n",
        "\n",
        "# Print pagerank\n",
        "print(\"Pagerank centrality: \", nx.pagerank(G,alpha=0.1))\n",
        "\n",
        "# draw a graph\n",
        "nx.draw_circular(G, with_labels=True)\n",
        "plt.show()"
      ],
      "metadata": {
        "colab": {
          "base_uri": "https://localhost:8080/",
          "height": 553
        },
        "id": "W1zWPhDn9SQC",
        "outputId": "c72e544b-9256-4dc1-9190-dc62e3ced9a3"
      },
      "execution_count": 47,
      "outputs": [
        {
          "output_type": "stream",
          "name": "stdout",
          "text": [
            "Pagerank centrality:  {0: 0.10949439969135805, 1: 0.10541496772119344, 2: 0.09273734992283952, 3: 0.09978650527263376, 5: 0.10141741370884774, 6: 0.09351382767489713, 4: 0.10606037911522635, 7: 0.09353532767489713, 8: 0.1028950931069959, 9: 0.09514473611111113}\n"
          ]
        },
        {
          "output_type": "display_data",
          "data": {
            "text/plain": [
              "<Figure size 640x480 with 1 Axes>"
            ],
            "image/png": "[encoded data removed]"
          },
          "metadata": {}
        }
      ]
    },
    {
      "cell_type": "markdown",
      "source": [
        "# Graph Measurements\n",
        "---"
      ],
      "metadata": {
        "id": "Zk5CuMYf00LL"
      }
    },
    {
      "cell_type": "markdown",
      "source": [
        "## 1. Clustering Coefficient"
      ],
      "metadata": {
        "id": "XwLOjoDe6j9f"
      }
    },
    {
      "cell_type": "markdown",
      "source": [
        "### 1.1 Local clustering coefficent"
      ],
      "metadata": {
        "id": "wszIHK-b8J-U"
      }
    },
    {
      "cell_type": "code",
      "source": [
        "from collections import Counter\n",
        "from itertools import chain, combinations\n",
        "import networkx as nx\n",
        "\n",
        "# Calculate degree of a node\n",
        "def degree_(G, nodes=None):\n",
        "    if nodes is None:\n",
        "        nodes_nbrs = G.adj.items()\n",
        "    else:\n",
        "        nodes_nbrs = ((n, G[n]) for n in G.nbunch_iter(nodes))\n",
        "\n",
        "    for v, v_nbrs in nodes_nbrs:\n",
        "        vs = set(v_nbrs) - {v}\n",
        "        gen_degree = Counter(len(vs & (set(G[w]) - {w})) for w in vs)\n",
        "        ntriangles = sum(k * val for k, val in gen_degree.items())\n",
        "        yield (v, len(vs), ntriangles, gen_degree)\n",
        "\n",
        "# Compute the local clustering coefficient for nodes where the input graph is from networkx.\n",
        "def local_clustering(G, nodes=None):\n",
        "    td_iter = degree_(G, nodes)\n",
        "    clusterc = {v: 0 if t == 0 else t / (d * (d - 1)) for v, d, t, _ in td_iter}\n",
        "    if nodes in G:\n",
        "        # Return the value of the sole entry in the dictionary.\n",
        "        return clusterc[nodes]\n",
        "    return clusterc"
      ],
      "metadata": {
        "id": "MmXYEeI500ff"
      },
      "execution_count": 39,
      "outputs": []
    },
    {
      "cell_type": "code",
      "source": [
        "# Load the karate club graph\n",
        "karate_graph = nx.karate_club_graph()\n",
        "\n",
        "# Print the local clustering coefficient of each node\n",
        "for node in karate_graph.nodes():\n",
        "  print(f\"Node {node}: {local_clustering(karate_graph, node)}\")"
      ],
      "metadata": {
        "colab": {
          "base_uri": "https://localhost:8080/"
        },
        "id": "FwyetnVx8QNx",
        "outputId": "2bd4085e-7d28-4946-fda0-900dd6860578"
      },
      "execution_count": 40,
      "outputs": [
        {
          "output_type": "stream",
          "name": "stdout",
          "text": [
            "Node 0: 0.15\n",
            "Node 1: 0.3333333333333333\n",
            "Node 2: 0.24444444444444444\n",
            "Node 3: 0.6666666666666666\n",
            "Node 4: 0.6666666666666666\n",
            "Node 5: 0.5\n",
            "Node 6: 0.5\n",
            "Node 7: 1.0\n",
            "Node 8: 0.5\n",
            "Node 9: 0\n",
            "Node 10: 0.6666666666666666\n",
            "Node 11: 0\n",
            "Node 12: 1.0\n",
            "Node 13: 0.6\n",
            "Node 14: 1.0\n",
            "Node 15: 1.0\n",
            "Node 16: 1.0\n",
            "Node 17: 1.0\n",
            "Node 18: 1.0\n",
            "Node 19: 0.3333333333333333\n",
            "Node 20: 1.0\n",
            "Node 21: 1.0\n",
            "Node 22: 1.0\n",
            "Node 23: 0.4\n",
            "Node 24: 0.3333333333333333\n",
            "Node 25: 0.3333333333333333\n",
            "Node 26: 1.0\n",
            "Node 27: 0.16666666666666666\n",
            "Node 28: 0.3333333333333333\n",
            "Node 29: 0.6666666666666666\n",
            "Node 30: 0.5\n",
            "Node 31: 0.2\n",
            "Node 32: 0.19696969696969696\n",
            "Node 33: 0.11029411764705882\n"
          ]
        }
      ]
    },
    {
      "cell_type": "markdown",
      "source": [
        "## 1.2 Average clustering coefficient"
      ],
      "metadata": {
        "id": "bQ6NVr1O8M57"
      }
    },
    {
      "cell_type": "code",
      "source": [
        "# Compute the average clustering coefficient for nodes where the input graph is from networkx.\n",
        "def average_clustering(G, nodes=None, count_zeros=True):\n",
        "    c = local_clustering(G, nodes).values()\n",
        "    if not count_zeros:\n",
        "        c = [v for v in c if abs(v) > 0]\n",
        "    return sum(c) / len(c)"
      ],
      "metadata": {
        "id": "zRrjO75m8Ph2"
      },
      "execution_count": 36,
      "outputs": []
    },
    {
      "cell_type": "code",
      "source": [
        "average_clustering(karate_graph)"
      ],
      "metadata": {
        "colab": {
          "base_uri": "https://localhost:8080/"
        },
        "id": "thl0bR558npV",
        "outputId": "225376a2-7ca4-4d41-d0b0-9f92f6664397"
      },
      "execution_count": 41,
      "outputs": [
        {
          "output_type": "execute_result",
          "data": {
            "text/plain": [
              "0.5706384782076823"
            ]
          },
          "metadata": {},
          "execution_count": 41
        }
      ]
    },
    {
      "cell_type": "markdown",
      "source": [
        "## 2. Modularity"
      ],
      "metadata": {
        "id": "SejPTfKv6pW7"
      }
    },
    {
      "cell_type": "code",
      "source": [
        "def modularity(G, partition):\n",
        "    W = sum(G.edges[v, w].get('weight', 1) for v, w in G.edges)\n",
        "    summation = 0\n",
        "    for cluster_nodes in partition:\n",
        "        s_c = sum(G.degree(n, weight='weight') for n in cluster_nodes)\n",
        "        # Use subgraph to count only internal links\n",
        "        C = G.subgraph(cluster_nodes)\n",
        "        W_c = sum(C.edges[v, w].get('weight', 1) for v, w in C.edges)\n",
        "        summation += W_c - s_c ** 2 / (4 * W)\n",
        "\n",
        "    return summation / W"
      ],
      "metadata": {
        "id": "KIFDDkvv6q3I"
      },
      "execution_count": 33,
      "outputs": []
    },
    {
      "cell_type": "code",
      "source": [
        "import networkx as nx\n",
        "\n",
        "G = nx.Graph()\n",
        "nx.add_cycle(G, [0, 1, 2, 3])\n",
        "nx.add_cycle(G, [4, 5, 6, 7])\n",
        "G.add_edge(0, 7)\n",
        "\n",
        "# Draw the graph\n",
        "nx.draw(G, with_labels=True)\n",
        "\n",
        "# Define a partition\n",
        "partition = [\n",
        "    {1, 2, 3},\n",
        "    {4, 5, 6},\n",
        "    {0, 7},\n",
        "]\n",
        "\n",
        "# Result of modularity\n",
        "print(\"Modularity of parition: \", modularity(G, partition))"
      ],
      "metadata": {
        "colab": {
          "base_uri": "https://localhost:8080/",
          "height": 533
        },
        "id": "Qvsc7AQw7eVw",
        "outputId": "3715aef5-b92b-4a16-b3b8-cb0e6fc65cc3"
      },
      "execution_count": 35,
      "outputs": [
        {
          "output_type": "stream",
          "name": "stdout",
          "text": [
            "Modularity of parition:  0.2222222222222222\n"
          ]
        },
        {
          "output_type": "display_data",
          "data": {
            "text/plain": [
              "<Figure size 640x480 with 1 Axes>"
            ],
            "image/png": "[encoded data removed]"
          },
          "metadata": {}
        }
      ]
    },
    {
      "cell_type": "markdown",
      "source": [
        "# Additional Metrics\n",
        "---"
      ],
      "metadata": {
        "id": "h7O-GF2J1f0z"
      }
    },
    {
      "cell_type": "markdown",
      "source": [
        "## 1. Jaccard's coefficient of node pairs"
      ],
      "metadata": {
        "id": "Etcg21Jj4zYs"
      }
    },
    {
      "cell_type": "code",
      "source": [
        "import networkx as nx\n",
        "\n",
        "# Define list of node pairs\n",
        "node_list = [(6, 9), (1, 3), (3, 9)]\n",
        "\n",
        "# Calculate Jaccard coefficients for each pair\n",
        "coefficients = {}\n",
        "preds = nx.jaccard_coefficient(G, node_list)\n",
        "for u, v, p in preds:\n",
        "    coefficients[(u, v)] = p\n",
        "\n",
        "# Print Jaccard coefficients\n",
        "for nodes, coeff in coefficients.items():\n",
        "    print(f\"The Jaccard coefficient of nodes {nodes} is: {coeff:.8f}\")"
      ],
      "metadata": {
        "colab": {
          "base_uri": "https://localhost:8080/"
        },
        "id": "pTFCWILm4y5Y",
        "outputId": "24ad5137-8bf0-4113-cca3-26cb4abf3687"
      },
      "execution_count": 24,
      "outputs": [
        {
          "output_type": "stream",
          "name": "stdout",
          "text": [
            "The Jaccard coefficient of nodes (6, 9) is: 0.00000000\n",
            "The Jaccard coefficient of nodes (1, 3) is: 0.36363636\n",
            "The Jaccard coefficient of nodes (3, 9) is: 0.14285714\n"
          ]
        }
      ]
    },
    {
      "cell_type": "markdown",
      "source": [
        "## 2. Katz index"
      ],
      "metadata": {
        "id": "A08isxvS4-6l"
      }
    },
    {
      "cell_type": "code",
      "source": [
        "import networkx as nx\n",
        "import random\n",
        "from numpy.linalg import inv\n",
        "\n",
        "# Create a graph with 10 nodes\n",
        "G = nx.Graph()\n",
        "for i in range(10):\n",
        "  G.add_node(i)\n",
        "\n",
        "# Add 23 random edges\n",
        "for i in range(23):\n",
        "  u, v = random.sample(range(10), 2)\n",
        "  G.add_edge(u, v)\n"
      ],
      "metadata": {
        "id": "m_ympwuW6GO9"
      },
      "execution_count": 28,
      "outputs": []
    },
    {
      "cell_type": "code",
      "source": [
        "#Calculate highest eigenvector\n",
        "L = nx.normalized_laplacian_matrix(G)\n",
        "e = np.linalg.eigvals(L.A)\n",
        "node_list = [(6, 9), (2, 5)]\n",
        "\n",
        "print(\"Largest eigenvalue:\", max(e))\n",
        "beta = 1/max(e)\n",
        "I = np.identity(len(G.nodes)) #create identity matrix\n",
        "\n",
        "#Katz score\n",
        "katz_matrix = np.linalg.inv(I - nx.to_numpy_array(G)*beta) - I\n",
        "\n",
        "#Get Katz score for node pairs\n",
        "katz_score = []\n",
        "for node_pair in node_list:\n",
        "    katz_score.append((node_pair[0], node_pair[1], katz_matrix[node_pair[0], node_pair[1]]))\n",
        "\n",
        "# Print result of Katz index\n",
        "for node_pair_score in katz_score:\n",
        "  print(f\"The Katz index between node {node_pair_score[0]} and node {node_pair_score[1]} is {node_pair_score[2]}\")"
      ],
      "metadata": {
        "colab": {
          "base_uri": "https://localhost:8080/"
        },
        "id": "6MXnJIbi5A2X",
        "outputId": "dfe8470e-875c-47fb-973e-092224086da2"
      },
      "execution_count": 32,
      "outputs": [
        {
          "output_type": "stream",
          "name": "stdout",
          "text": [
            "Largest eigenvalue: 1.7290225232123555\n",
            "The Katz index between node 6 and node 9 is 0.6188296090871204\n",
            "The Katz index between node 2 and node 5 is -0.22707329129775466\n"
          ]
        }
      ]
    },
    {
      "cell_type": "markdown",
      "source": [
        "# Graph Kernels\n",
        "---"
      ],
      "metadata": {
        "id": "MEPsCtw71klU"
      }
    },
    {
      "cell_type": "markdown",
      "source": [
        "## 1. Shortest Path Kernel"
      ],
      "metadata": {
        "id": "qgFtNKX03Dxf"
      }
    },
    {
      "cell_type": "code",
      "source": [
        "!pip install grakel"
      ],
      "metadata": {
        "colab": {
          "base_uri": "https://localhost:8080/"
        },
        "id": "1KlObXqF3NgK",
        "outputId": "134cb1f6-4416-4e6c-cf6d-38226994856e"
      },
      "execution_count": 9,
      "outputs": [
        {
          "output_type": "stream",
          "name": "stdout",
          "text": [
            "Collecting grakel\n",
            "  Downloading GraKeL-0.1.10-cp310-cp310-manylinux_2_17_x86_64.manylinux2014_x86_64.whl (1.9 MB)\n",
            "\u001b[2K     \u001b[90m━━━━━━━━━━━━━━━━━━━━━━━━━━━━━━━━━━━━━━━━\u001b[0m \u001b[32m1.9/1.9 MB\u001b[0m \u001b[31m1.4 MB/s\u001b[0m eta \u001b[36m0:00:00\u001b[0m\n",
            "\u001b[?25hRequirement already satisfied: numpy>=1.14.0 in /usr/local/lib/python3.10/dist-packages (from grakel) (1.25.2)\n",
            "Requirement already satisfied: cython>=0.27.3 in /usr/local/lib/python3.10/dist-packages (from grakel) (3.0.10)\n",
            "Requirement already satisfied: scikit-learn>=0.19 in /usr/local/lib/python3.10/dist-packages (from grakel) (1.2.2)\n",
            "Requirement already satisfied: six>=1.11.0 in /usr/local/lib/python3.10/dist-packages (from grakel) (1.16.0)\n",
            "Requirement already satisfied: future>=0.16.0 in /usr/local/lib/python3.10/dist-packages (from grakel) (0.18.3)\n",
            "Requirement already satisfied: joblib in /usr/local/lib/python3.10/dist-packages (from grakel) (1.4.2)\n",
            "Requirement already satisfied: scipy>=1.3.2 in /usr/local/lib/python3.10/dist-packages (from scikit-learn>=0.19->grakel) (1.11.4)\n",
            "Requirement already satisfied: threadpoolctl>=2.0.0 in /usr/local/lib/python3.10/dist-packages (from scikit-learn>=0.19->grakel) (3.5.0)\n",
            "Installing collected packages: grakel\n",
            "Successfully installed grakel-0.1.10\n"
          ]
        }
      ]
    },
    {
      "cell_type": "code",
      "source": [
        "import grakel\n",
        "from grakel.kernels import GraphletSampling, WeisfeilerLehman\n",
        "import matplotlib.pyplot as plt\n",
        "import numpy as np\n",
        "import networkx as nx\n",
        "from grakel.utils import graph_from_networkx\n",
        "from grakel import GraphKernel"
      ],
      "metadata": {
        "id": "-51eAN7k3Jvs"
      },
      "execution_count": 19,
      "outputs": []
    },
    {
      "cell_type": "code",
      "source": [
        "G1 = nx.Graph([(0, 1), (1, 2), (1, 3), (2, 3), (2, 4)])\n",
        "nx.set_node_attributes(G1, {0:'a', 1:'b', 2:'c', 3:'d', 4:'e'}, 'label')\n",
        "\n",
        "G2 = nx.Graph([(0, 1), (1, 2), (2, 3), (0, 3), (1, 4)])\n",
        "nx.set_node_attributes(G2, {0:'a', 1:'a', 2:'b', 3:'d', 4:'e'}, 'label')\n",
        "\n",
        "nx_graphs = [G1, G2]\n",
        "\n",
        "graphs = graph_from_networkx(nx_graphs, node_labels_tag='label')\n",
        "\n",
        "gk = GraphKernel(kernel=[{\"name\": \"shortest_path\"}], normalize=True)\n",
        "# Return similarity scores among pairs of graphs in nx_graphs\n",
        "similarity_arr = gk.fit_transform(graphs)\n",
        "\n",
        "# Define index of 2 graphs in the array of similarity scores\n",
        "G1_index = 0\n",
        "G2_index = 1\n",
        "\n",
        "print(f\"Similarity between 2 graphs: {similarity_arr[G1_index][G2_index]}\")"
      ],
      "metadata": {
        "colab": {
          "base_uri": "https://localhost:8080/"
        },
        "id": "03FRT_qn3T_2",
        "outputId": "5c69c2de-010e-4555-bc0c-a626757163ac"
      },
      "execution_count": 20,
      "outputs": [
        {
          "output_type": "stream",
          "name": "stdout",
          "text": [
            "Similarity between 2 graphs: 0.38138503569823695\n"
          ]
        }
      ]
    },
    {
      "cell_type": "code",
      "source": [
        "fig, (ax1, ax2) = plt.subplots(1, 2)\n",
        "nx.draw(G1, ax=ax1, with_labels=True)\n",
        "nx.draw(G2, ax=ax2, with_labels=True)\n",
        "ax1.set_title(\"Graph 1\")\n",
        "ax2.set_title(\"Graph 2\")"
      ],
      "metadata": {
        "colab": {
          "base_uri": "https://localhost:8080/",
          "height": 445
        },
        "id": "Dr4xdtXf3ZGb",
        "outputId": "18128b52-418b-4283-a368-61b013251453"
      },
      "execution_count": 21,
      "outputs": [
        {
          "output_type": "execute_result",
          "data": {
            "text/plain": [
              "Text(0.5, 1.0, 'Graph 2')"
            ]
          },
          "metadata": {},
          "execution_count": 21
        },
        {
          "output_type": "display_data",
          "data": {
            "text/plain": [
              "<Figure size 640x480 with 2 Axes>"
            ],
            "image/png": "[encoded data removed]"
          },
          "metadata": {}
        }
      ]
    },
    {
      "cell_type": "markdown",
      "source": [
        "## 2. Weisleifer-Lehman\n",
        "\n",
        "The function iteratively aggregates and hashes neighbourhoods of each node. After each node’s neighbors are hashed to obtain updated node labels, a hashed histogram of resulting labels is returned as the final hash.\n",
        "\n",
        "Hashes are identical for isomorphic graphs and strong guarantees that non-isomorphic graphs will get different hashes."
      ],
      "metadata": {
        "id": "oR565fn34Ey6"
      }
    },
    {
      "cell_type": "code",
      "source": [
        "G1 = nx.Graph()\n",
        "G1.add_edges_from(\n",
        "    [\n",
        "        (\"red\", \"orange\"),\n",
        "        (\"red\", \"yellow\"),\n",
        "        (\"red\", \"green\"),\n",
        "        (\"orange\", \"yellow\"),\n",
        "        (\"yellow\", \"blue\"),\n",
        "        (\"green\", \"blue\"),\n",
        "    ]\n",
        ")\n",
        "\n",
        "G2 = nx.Graph()\n",
        "G2.add_edges_from(\n",
        "    [\n",
        "        (\"yellow\", \"red\"),\n",
        "        (\"yellow\", \"orange\"),\n",
        "        (\"yellow\", \"blue\"),\n",
        "        (\"red\", \"orange\"),\n",
        "        (\"red\", \"green\"),\n",
        "        (\"green\", \"blue\"),\n",
        "    ]\n",
        ")\n",
        "\n",
        "g1_hash = nx.weisfeiler_lehman_graph_hash(G1)\n",
        "g2_hash = nx.weisfeiler_lehman_graph_hash(G2)\n",
        "\n",
        "# g1_hash and g2_hash are equal when they are isomorphic\n",
        "print(f\"First  graph hash: {g1_hash}\")\n",
        "print(f\"Second graph hash: {g2_hash}\")\n",
        "print(f\"Checking graph isomorphic: {g1_hash==g2_hash}\")"
      ],
      "metadata": {
        "colab": {
          "base_uri": "https://localhost:8080/"
        },
        "id": "MjqAyPlP4MpW",
        "outputId": "18b2d840-2be4-4b35-e285-636ab4730193"
      },
      "execution_count": 22,
      "outputs": [
        {
          "output_type": "stream",
          "name": "stdout",
          "text": [
            "First  graph hash: 8c44c442a25e00dfae4e1647b2faf79f\n",
            "Second graph hash: 8c44c442a25e00dfae4e1647b2faf79f\n",
            "Checking graph isomorphic: True\n"
          ]
        }
      ]
    },
    {
      "cell_type": "code",
      "source": [
        "fig, (ax1, ax2) = plt.subplots(1, 2)\n",
        "nx.draw(G1, ax=ax1, with_labels=True)\n",
        "nx.draw(G2, ax=ax2, with_labels=True)\n",
        "ax1.set_title(\"Graph 1\")\n",
        "ax2.set_title(\"Graph 2\")"
      ],
      "metadata": {
        "colab": {
          "base_uri": "https://localhost:8080/",
          "height": 445
        },
        "id": "DLoixgOz4iYs",
        "outputId": "01aa350d-f8c8-48d8-bb66-d211903fa5ea"
      },
      "execution_count": 23,
      "outputs": [
        {
          "output_type": "execute_result",
          "data": {
            "text/plain": [
              "Text(0.5, 1.0, 'Graph 2')"
            ]
          },
          "metadata": {},
          "execution_count": 23
        },
        {
          "output_type": "display_data",
          "data": {
            "text/plain": [
              "<Figure size 640x480 with 2 Axes>"
            ],
            "image/png": "[encoded data removed]"
          },
          "metadata": {}
        }
      ]
    },
    {
      "cell_type": "markdown",
      "source": [
        "# Graph Representation Learning\n",
        "---"
      ],
      "metadata": {
        "id": "FlrPeXkB1m5L"
      }
    },
    {
      "cell_type": "markdown",
      "source": [
        "## 1. Random Walk"
      ],
      "metadata": {
        "id": "l9AnjLGi1q8M"
      }
    },
    {
      "cell_type": "code",
      "source": [
        "import networkx as nx\n",
        "import random\n",
        "\n",
        "# Import the Karate Club graph using NetworkX and create an adjacency matrix\n",
        "karate_graph = nx.karate_club_graph()\n",
        "adjacency_list = nx.adjacency_matrix(karate_graph, dtype=int)\n",
        "adjacency_matrix_array = adjacency_list.toarray()\n",
        "\n",
        "nx.draw(karate_graph, with_labels = True)"
      ],
      "metadata": {
        "colab": {
          "base_uri": "https://localhost:8080/",
          "height": 516
        },
        "id": "ZAuk_YkP1zTn",
        "outputId": "5231f532-91b7-4472-d093-97abc65cefa7"
      },
      "execution_count": 3,
      "outputs": [
        {
          "output_type": "display_data",
          "data": {
            "text/plain": [
              "<Figure size 640x480 with 1 Axes>"
            ],
            "image/png": "[encoded data removed]"
          },
          "metadata": {}
        }
      ]
    },
    {
      "cell_type": "code",
      "source": [
        "def random_walk(adj_list, node, walk_length):\n",
        "  walk = [node]        # Walk starts from this node\n",
        "\n",
        "  for i in range(walk_length-1):\n",
        "    node = adj_list[node][random.randint(0,len(adj_list[node])-1)]\n",
        "    walk.append(node)\n",
        "\n",
        "  return walk\n",
        "\n",
        "# Perform random walks on the graph\n",
        "num_walks = 8\n",
        "\n",
        "for node in karate_graph.nodes():\n",
        "  print(\"Node \" + str(node) + \" :\" + str(random_walk(adjacency_matrix_array, node, num_walks)))"
      ],
      "metadata": {
        "colab": {
          "base_uri": "https://localhost:8080/"
        },
        "id": "GQZ950rE1_Cc",
        "outputId": "078293e8-ca1e-46cd-a510-370bb0e4a3c4"
      },
      "execution_count": 4,
      "outputs": [
        {
          "output_type": "stream",
          "name": "stdout",
          "text": [
            "Node 0 :[0, 0, 0, 5, 0, 4, 2, 5]\n",
            "Node 1 :[1, 1, 0, 0, 0, 0, 3, 0]\n",
            "Node 2 :[2, 0, 2, 0, 0, 2, 6, 0]\n",
            "Node 3 :[3, 0, 2, 0, 4, 0, 0, 3]\n",
            "Node 4 :[4, 0, 0, 2, 0, 0, 0, 0]\n",
            "Node 5 :[5, 0, 2, 0, 0, 0, 0, 0]\n",
            "Node 6 :[6, 0, 2, 0, 0, 0, 0, 3]\n",
            "Node 7 :[7, 0, 3, 0, 0, 3, 0, 0]\n",
            "Node 8 :[8, 0, 3, 0, 0, 2, 0, 2]\n",
            "Node 9 :[9, 2, 0, 1, 0, 0, 0, 2]\n",
            "Node 10 :[10, 0, 0, 2, 0, 3, 3, 0]\n",
            "Node 11 :[11, 0, 0, 2, 2, 0, 0, 0]\n",
            "Node 12 :[12, 0, 0, 0, 5, 5, 0, 0]\n",
            "Node 13 :[13, 0, 0, 0, 0, 3, 0, 3]\n",
            "Node 14 :[14, 0, 3, 0, 3, 0, 2, 4]\n",
            "Node 15 :[15, 0, 3, 0, 0, 4, 0, 3]\n",
            "Node 16 :[16, 0, 0, 2, 0, 0, 0, 3]\n",
            "Node 17 :[17, 0, 0, 3, 0, 2, 0, 3]\n",
            "Node 18 :[18, 2, 4, 0, 3, 0, 0, 2]\n",
            "Node 19 :[19, 0, 0, 2, 0, 0, 0, 0]\n",
            "Node 20 :[20, 3, 0, 0, 3, 3, 0, 2]\n",
            "Node 21 :[21, 0, 0, 3, 0, 0, 3, 0]\n",
            "Node 22 :[22, 0, 0, 2, 0, 0, 0, 2]\n",
            "Node 23 :[23, 0, 1, 0, 0, 0, 0, 0]\n",
            "Node 24 :[24, 0, 0, 0, 0, 0, 5, 0]\n",
            "Node 25 :[25, 0, 0, 0, 1, 6, 0, 0]\n",
            "Node 26 :[26, 0, 2, 0, 4, 0, 2, 0]\n",
            "Node 27 :[27, 0, 0, 2, 0, 0, 5, 0]\n",
            "Node 28 :[28, 2, 0, 0, 0, 0, 0, 0]\n",
            "Node 29 :[29, 0, 0, 3, 3, 0, 0, 0]\n",
            "Node 30 :[30, 3, 0, 2, 0, 2, 6, 0]\n",
            "Node 31 :[31, 0, 2, 1, 0, 0, 3, 0]\n",
            "Node 32 :[32, 0, 0, 3, 0, 2, 0, 2]\n",
            "Node 33 :[33, 0, 3, 0, 3, 3, 0, 3]\n"
          ]
        }
      ]
    },
    {
      "cell_type": "markdown",
      "source": [
        "## 2. Singular Value Decomposition in Matrix Adjacency for HOPE\n",
        "\n",
        "Calculate the SVG from Katz index."
      ],
      "metadata": {
        "id": "7wjfiQnn2Mix"
      }
    },
    {
      "cell_type": "code",
      "source": [
        "import networkx as nx\n",
        "import numpy as np\n",
        "from scipy.sparse.linalg import svds\n",
        "from scipy.sparse import csr_matrix\n",
        "\n",
        "# Load the karate club network\n",
        "G = nx.karate_club_graph()\n",
        "\n",
        "# Define the Katz index similarity\n",
        "def katz_index(G, alpha=0.5, max_iter=100, tol=1e-3):\n",
        "    n = len(G.nodes())\n",
        "    A = nx.adjacency_matrix(G).todense()\n",
        "    I = np.eye(n)\n",
        "    X = I\n",
        "    converged = False\n",
        "    for i in range(max_iter):\n",
        "        X_prev = X\n",
        "        X = alpha * A.dot(X) + (1 - alpha) * I\n",
        "        if np.linalg.norm(X - X_prev) < tol:\n",
        "            converged = True\n",
        "            break\n",
        "    return X\n",
        "\n",
        "# Compute the Katz index similarity matrix\n",
        "X = katz_index(G)\n",
        "\n",
        "# Perform singular value decomposition on the adjacency matrix\n",
        "U, s, Vh = svds(X, k=2)\n",
        "\n",
        "# Print the singular values\n",
        "print(s)\n",
        "\n",
        "# Print the left singular vectors\n",
        "print(U)\n",
        "\n",
        "# Print the right singular vectors\n",
        "print(Vh)"
      ],
      "metadata": {
        "colab": {
          "base_uri": "https://localhost:8080/"
        },
        "id": "ZBjfxLu42MId",
        "outputId": "d7f83352-72d3-4565-a992-7eeebaa74e6c"
      },
      "execution_count": 5,
      "outputs": [
        {
          "output_type": "stream",
          "name": "stdout",
          "text": [
            "[4.07405236e+092 3.46416835e+103]\n",
            "[[ 0.33091175 -0.31235123]\n",
            " [ 0.33411781 -0.30175117]\n",
            " [ 0.27459595 -0.36058862]\n",
            " [ 0.24818142 -0.19856719]\n",
            " [ 0.08309567 -0.05567475]\n",
            " [ 0.10827224 -0.06742808]\n",
            " [ 0.10598531 -0.06644822]\n",
            " [ 0.2245506  -0.17843234]\n",
            " [-0.03320172 -0.24695058]\n",
            " [-0.02345527 -0.05020307]\n",
            " [ 0.07224986 -0.04583322]\n",
            " [ 0.05803362 -0.04320695]\n",
            " [ 0.06286905 -0.04186974]\n",
            " [ 0.18811275 -0.24048654]\n",
            " [-0.09784916 -0.07953765]\n",
            " [-0.13735653 -0.1131142 ]\n",
            " [ 0.03757511 -0.01851886]\n",
            " [ 0.05822076 -0.04271819]\n",
            " [-0.05895489 -0.04889692]\n",
            " [ 0.05799887 -0.07342003]\n",
            " [-0.07809506 -0.06274937]\n",
            " [ 0.07775286 -0.05663175]\n",
            " [-0.09815553 -0.08100556]\n",
            " [-0.28970351 -0.21804371]\n",
            " [-0.06604036 -0.05104891]\n",
            " [-0.17460699 -0.12258229]\n",
            " [-0.08337404 -0.05862926]\n",
            " [-0.12623462 -0.14768307]\n",
            " [-0.03089102 -0.08614539]\n",
            " [-0.18759777 -0.13583302]\n",
            " [-0.08436132 -0.15831325]\n",
            " [-0.20089716 -0.20945644]\n",
            " [-0.33266824 -0.33226141]\n",
            " [-0.33791455 -0.36409688]]\n",
            "[[-0.02926289 -0.25571671  0.43690103  0.13963293  0.03183551 -0.34967962\n",
            "  -0.03939313  0.03408364 -0.01292872  0.09090192  0.13143326  0.06691833\n",
            "   0.00203468  0.25506128 -0.22222673 -0.19001586  0.04305339 -0.22585363\n",
            "  -0.05783568 -0.01722734 -0.01211002  0.0497646   0.10347351 -0.22231234\n",
            "   0.33543056 -0.01586786 -0.16999264 -0.17743299  0.12887656 -0.07067507\n",
            "  -0.2129191  -0.04562796  0.17433909 -0.15753628]\n",
            " [-0.31235123 -0.30175117 -0.36058862 -0.19856719 -0.05567475 -0.06742808\n",
            "  -0.06644822 -0.17843234 -0.24695058 -0.05020307 -0.04583322 -0.04320695\n",
            "  -0.04186974 -0.24048654 -0.07953765 -0.1131142  -0.01851886 -0.04271819\n",
            "  -0.04889692 -0.07342003 -0.06274937 -0.05663175 -0.08100556 -0.21804371\n",
            "  -0.05104891 -0.12258229 -0.05862926 -0.14768307 -0.08614539 -0.13583302\n",
            "  -0.15831325 -0.20945644 -0.33226141 -0.36409688]]\n"
          ]
        }
      ]
    },
    {
      "cell_type": "markdown",
      "source": [
        "## 3. Metapath"
      ],
      "metadata": {
        "id": "2fkGfLIL1sYT"
      }
    },
    {
      "cell_type": "code",
      "source": [
        "import networkx as nx\n",
        "import random\n",
        "\n",
        "# Import the Karate Club graph using NetworkX and create an adjacency matrix\n",
        "karate_graph = nx.karate_club_graph()\n",
        "adjacency_list = nx.adjacency_matrix(karate_graph, dtype=int)\n",
        "adjacency_matrix_array = adjacency_list.toarray()\n",
        "\n",
        "# Define the metapaths\n",
        "metapaths = [[\"Member\", \"Club\", \"Member\"], [\"Member\", \"Club\", \"Member\", \"Club\", \"Member\"]]\n",
        "\n",
        "def random_walk_metapath2vec(adj_list, node, metapath, walk_length):\n",
        "  walk = [node]        # Walk starts from this node\n",
        "\n",
        "  for i in range(walk_length-1):\n",
        "    next_hop_candidates = []\n",
        "    current_node = walk[-1]\n",
        "    for j in range(len(metapath)):\n",
        "      if current_node in adj_list and metapath[j] in adj_list[current_node]:\n",
        "        next_hop_candidates.extend(adj_list[current_node][metapath[j]])\n",
        "    if len(next_hop_candidates) > 0:\n",
        "      next_node = random.choice(next_hop_candidates)\n",
        "    else:\n",
        "      next_node = random.choice(adj_list[current_node])\n",
        "    walk.append(next_node)\n",
        "\n",
        "  return walk\n",
        "\n",
        "# Perform random walks on the graph using metapath2vec\n",
        "num_walks = 8\n",
        "\n",
        "for node in karate_graph.nodes():\n",
        "  for metapath in metapaths:\n",
        "    print(\"Node \" + str(node) + \" using metapath \" + str(metapath) + \" :\" + str(random_walk_metapath2vec(adjacency_matrix_array, node, metapath, num_walks)))\n",
        "\n",
        ""
      ],
      "metadata": {
        "colab": {
          "base_uri": "https://localhost:8080/"
        },
        "id": "akiwLwYO1xsW",
        "outputId": "73f5baf1-50dd-4f7e-b299-e6d55bc3409d"
      },
      "execution_count": 6,
      "outputs": [
        {
          "output_type": "stream",
          "name": "stdout",
          "text": [
            "Node 0 using metapath ['Member', 'Club', 'Member'] :[0, 3, 0, 0, 0, 3, 3, 0]\n",
            "Node 0 using metapath ['Member', 'Club', 'Member', 'Club', 'Member'] :[0, 0, 0, 3, 0, 4, 0, 0]\n",
            "Node 1 using metapath ['Member', 'Club', 'Member'] :[1, 0, 2, 0, 3, 0, 0, 0]\n",
            "Node 1 using metapath ['Member', 'Club', 'Member', 'Club', 'Member'] :[1, 0, 2, 0, 0, 0, 0, 0]\n",
            "Node 2 using metapath ['Member', 'Club', 'Member'] :[2, 0, 0, 0, 0, 0, 3, 0]\n",
            "Node 2 using metapath ['Member', 'Club', 'Member', 'Club', 'Member'] :[2, 0, 3, 3, 3, 0, 4, 0]\n",
            "Node 3 using metapath ['Member', 'Club', 'Member'] :[3, 0, 0, 2, 0, 0, 3, 0]\n",
            "Node 3 using metapath ['Member', 'Club', 'Member', 'Club', 'Member'] :[3, 0, 0, 0, 0, 0, 0, 2]\n",
            "Node 4 using metapath ['Member', 'Club', 'Member'] :[4, 0, 2, 0, 3, 0, 0, 0]\n",
            "Node 4 using metapath ['Member', 'Club', 'Member', 'Club', 'Member'] :[4, 0, 2, 5, 0, 0, 2, 0]\n",
            "Node 5 using metapath ['Member', 'Club', 'Member'] :[5, 3, 0, 2, 0, 0, 3, 0]\n",
            "Node 5 using metapath ['Member', 'Club', 'Member', 'Club', 'Member'] :[5, 0, 3, 0, 0, 0, 3, 0]\n",
            "Node 6 using metapath ['Member', 'Club', 'Member'] :[6, 0, 0, 0, 2, 2, 0, 0]\n",
            "Node 6 using metapath ['Member', 'Club', 'Member', 'Club', 'Member'] :[6, 0, 1, 0, 0, 0, 0, 2]\n",
            "Node 7 using metapath ['Member', 'Club', 'Member'] :[7, 0, 0, 0, 5, 3, 0, 3]\n",
            "Node 7 using metapath ['Member', 'Club', 'Member', 'Club', 'Member'] :[7, 2, 0, 0, 2, 0, 0, 0]\n",
            "Node 8 using metapath ['Member', 'Club', 'Member'] :[8, 0, 4, 0, 0, 3, 0, 2]\n",
            "Node 8 using metapath ['Member', 'Club', 'Member', 'Club', 'Member'] :[8, 0, 0, 2, 0, 3, 0, 0]\n",
            "Node 9 using metapath ['Member', 'Club', 'Member'] :[9, 0, 2, 0, 2, 5, 0, 2]\n",
            "Node 9 using metapath ['Member', 'Club', 'Member', 'Club', 'Member'] :[9, 0, 4, 0, 0, 3, 0, 1]\n",
            "Node 10 using metapath ['Member', 'Club', 'Member'] :[10, 2, 4, 0, 2, 0, 3, 3]\n",
            "Node 10 using metapath ['Member', 'Club', 'Member', 'Club', 'Member'] :[10, 0, 3, 0, 0, 3, 0, 3]\n",
            "Node 11 using metapath ['Member', 'Club', 'Member'] :[11, 0, 3, 0, 0, 2, 0, 3]\n",
            "Node 11 using metapath ['Member', 'Club', 'Member', 'Club', 'Member'] :[11, 0, 0, 0, 3, 0, 0, 1]\n",
            "Node 12 using metapath ['Member', 'Club', 'Member'] :[12, 0, 0, 0, 0, 2, 0, 3]\n",
            "Node 12 using metapath ['Member', 'Club', 'Member', 'Club', 'Member'] :[12, 0, 2, 0, 2, 0, 0, 0]\n",
            "Node 13 using metapath ['Member', 'Club', 'Member'] :[13, 0, 0, 2, 4, 0, 2, 0]\n",
            "Node 13 using metapath ['Member', 'Club', 'Member', 'Club', 'Member'] :[13, 0, 0, 0, 0, 0, 0, 2]\n",
            "Node 14 using metapath ['Member', 'Club', 'Member'] :[14, 0, 3, 0, 2, 0, 0, 3]\n",
            "Node 14 using metapath ['Member', 'Club', 'Member', 'Club', 'Member'] :[14, 0, 2, 0, 5, 0, 0, 0]\n",
            "Node 15 using metapath ['Member', 'Club', 'Member'] :[15, 0, 0, 2, 0, 4, 0, 0]\n",
            "Node 15 using metapath ['Member', 'Club', 'Member', 'Club', 'Member'] :[15, 0, 0, 2, 0, 0, 3, 0]\n",
            "Node 16 using metapath ['Member', 'Club', 'Member'] :[16, 0, 2, 3, 0, 1, 0, 1]\n",
            "Node 16 using metapath ['Member', 'Club', 'Member', 'Club', 'Member'] :[16, 0, 0, 0, 0, 0, 0, 2]\n",
            "Node 17 using metapath ['Member', 'Club', 'Member'] :[17, 0, 0, 1, 6, 0, 2, 3]\n",
            "Node 17 using metapath ['Member', 'Club', 'Member', 'Club', 'Member'] :[17, 0, 3, 0, 0, 0, 0, 0]\n",
            "Node 18 using metapath ['Member', 'Club', 'Member'] :[18, 0, 0, 3, 0, 2, 0, 0]\n",
            "Node 18 using metapath ['Member', 'Club', 'Member', 'Club', 'Member'] :[18, 0, 0, 2, 0, 0, 0, 0]\n",
            "Node 19 using metapath ['Member', 'Club', 'Member'] :[19, 0, 0, 0, 0, 3, 0, 0]\n",
            "Node 19 using metapath ['Member', 'Club', 'Member', 'Club', 'Member'] :[19, 0, 0, 2, 0, 2, 0, 3]\n",
            "Node 20 using metapath ['Member', 'Club', 'Member'] :[20, 0, 1, 6, 0, 1, 0, 0]\n",
            "Node 20 using metapath ['Member', 'Club', 'Member', 'Club', 'Member'] :[20, 0, 0, 2, 0, 3, 0, 2]\n",
            "Node 21 using metapath ['Member', 'Club', 'Member'] :[21, 0, 0, 0, 2, 0, 3, 0]\n",
            "Node 21 using metapath ['Member', 'Club', 'Member', 'Club', 'Member'] :[21, 2, 0, 0, 0, 0, 5, 0]\n",
            "Node 22 using metapath ['Member', 'Club', 'Member'] :[22, 0, 0, 2, 0, 3, 3, 0]\n",
            "Node 22 using metapath ['Member', 'Club', 'Member', 'Club', 'Member'] :[22, 0, 0, 0, 0, 2, 2, 0]\n",
            "Node 23 using metapath ['Member', 'Club', 'Member'] :[23, 5, 0, 0, 0, 2, 0, 3]\n",
            "Node 23 using metapath ['Member', 'Club', 'Member', 'Club', 'Member'] :[23, 0, 0, 2, 0, 0, 2, 0]\n",
            "Node 24 using metapath ['Member', 'Club', 'Member'] :[24, 0, 1, 0, 5, 0, 0, 0]\n",
            "Node 24 using metapath ['Member', 'Club', 'Member', 'Club', 'Member'] :[24, 0, 2, 0, 0, 2, 0, 0]\n",
            "Node 25 using metapath ['Member', 'Club', 'Member'] :[25, 0, 2, 0, 0, 0, 0, 0]\n",
            "Node 25 using metapath ['Member', 'Club', 'Member', 'Club', 'Member'] :[25, 0, 2, 0, 0, 0, 2, 0]\n",
            "Node 26 using metapath ['Member', 'Club', 'Member'] :[26, 0, 3, 0, 4, 0, 0, 0]\n",
            "Node 26 using metapath ['Member', 'Club', 'Member', 'Club', 'Member'] :[26, 2, 0, 3, 3, 0, 0, 2]\n",
            "Node 27 using metapath ['Member', 'Club', 'Member'] :[27, 0, 0, 0, 2, 0, 0, 2]\n",
            "Node 27 using metapath ['Member', 'Club', 'Member', 'Club', 'Member'] :[27, 0, 2, 0, 0, 0, 0, 1]\n",
            "Node 28 using metapath ['Member', 'Club', 'Member'] :[28, 0, 0, 0, 0, 3, 0, 2]\n",
            "Node 28 using metapath ['Member', 'Club', 'Member', 'Club', 'Member'] :[28, 0, 0, 0, 3, 0, 3, 0]\n",
            "Node 29 using metapath ['Member', 'Club', 'Member'] :[29, 0, 2, 0, 0, 4, 0, 0]\n",
            "Node 29 using metapath ['Member', 'Club', 'Member', 'Club', 'Member'] :[29, 0, 3, 0, 0, 3, 0, 0]\n",
            "Node 30 using metapath ['Member', 'Club', 'Member'] :[30, 0, 0, 2, 2, 0, 0, 0]\n",
            "Node 30 using metapath ['Member', 'Club', 'Member', 'Club', 'Member'] :[30, 0, 2, 0, 3, 0, 0, 0]\n",
            "Node 31 using metapath ['Member', 'Club', 'Member'] :[31, 0, 0, 3, 0, 0, 2, 1]\n",
            "Node 31 using metapath ['Member', 'Club', 'Member', 'Club', 'Member'] :[31, 0, 2, 6, 0, 3, 0, 0]\n",
            "Node 32 using metapath ['Member', 'Club', 'Member'] :[32, 3, 0, 2, 0, 0, 0, 0]\n",
            "Node 32 using metapath ['Member', 'Club', 'Member', 'Club', 'Member'] :[32, 2, 0, 2, 0, 0, 0, 2]\n",
            "Node 33 using metapath ['Member', 'Club', 'Member'] :[33, 0, 2, 0, 0, 5, 3, 0]\n",
            "Node 33 using metapath ['Member', 'Club', 'Member', 'Club', 'Member'] :[33, 0, 2, 3, 0, 3, 0, 3]\n"
          ]
        }
      ]
    },
    {
      "cell_type": "markdown",
      "source": [
        "## 4. Temporal random walk\n",
        "\n",
        "Implementing the random walk of Karate graph under Continuous time"
      ],
      "metadata": {
        "id": "LyEGAJxw1z2X"
      }
    },
    {
      "cell_type": "code",
      "source": [
        "import networkx as nx\n",
        "import random\n",
        "import datetime\n",
        "\n",
        "# Import the Karate Club graph using NetworkX\n",
        "karate_graph = nx.karate_club_graph()\n",
        "\n",
        "# Convert the Karate Club graph to an edgelist\n",
        "edgelist = nx.to_edgelist(karate_graph)\n",
        "\n",
        "# Print the edgelist\n",
        "print(edgelist)\n",
        "\n",
        "# Create a list of edges with timestamps\n",
        "edges_with_timestamps = []\n",
        "for edge in edgelist:\n",
        "  edges_with_timestamps.append((edge[0], edge[1], datetime.datetime.now()))\n",
        "\n",
        "# Define the time window\n",
        "time_window = datetime.timedelta(days=1)\n",
        "\n",
        "# Perform temporal random walks\n",
        "num_walks = 6\n",
        "for node in karate_graph.nodes():\n",
        "  for i in range(num_walks):\n",
        "    walk = [node]\n",
        "    current_time = datetime.datetime.now()\n",
        "    while current_time < datetime.datetime.now() + time_window:\n",
        "      next_hop_candidates = []\n",
        "      for edge in edges_with_timestamps:\n",
        "        if edge[0] == walk[-1] and edge[2] <= current_time:\n",
        "          next_hop_candidates.append(edge[1])\n",
        "      if len(next_hop_candidates) > 0:\n",
        "        next_node = random.choice(next_hop_candidates)\n",
        "      else:\n",
        "        break\n",
        "      walk.append(next_node)\n",
        "      current_time = datetime.datetime.now()\n",
        "    print(\"Node \" + str(node) + \" walk \" + str(i+1) + \": \" + str(walk))"
      ],
      "metadata": {
        "colab": {
          "base_uri": "https://localhost:8080/"
        },
        "id": "kqBcCv1l12lg",
        "outputId": "ee36ce02-db61-4568-a196-ca58946e46f2"
      },
      "execution_count": 7,
      "outputs": [
        {
          "output_type": "stream",
          "name": "stdout",
          "text": [
            "[(0, 1, {'weight': 4}), (0, 2, {'weight': 5}), (0, 3, {'weight': 3}), (0, 4, {'weight': 3}), (0, 5, {'weight': 3}), (0, 6, {'weight': 3}), (0, 7, {'weight': 2}), (0, 8, {'weight': 2}), (0, 10, {'weight': 2}), (0, 11, {'weight': 3}), (0, 12, {'weight': 1}), (0, 13, {'weight': 3}), (0, 17, {'weight': 2}), (0, 19, {'weight': 2}), (0, 21, {'weight': 2}), (0, 31, {'weight': 2}), (1, 2, {'weight': 6}), (1, 3, {'weight': 3}), (1, 7, {'weight': 4}), (1, 13, {'weight': 5}), (1, 17, {'weight': 1}), (1, 19, {'weight': 2}), (1, 21, {'weight': 2}), (1, 30, {'weight': 2}), (2, 3, {'weight': 3}), (2, 7, {'weight': 4}), (2, 8, {'weight': 5}), (2, 9, {'weight': 1}), (2, 13, {'weight': 3}), (2, 27, {'weight': 2}), (2, 28, {'weight': 2}), (2, 32, {'weight': 2}), (3, 7, {'weight': 3}), (3, 12, {'weight': 3}), (3, 13, {'weight': 3}), (4, 6, {'weight': 2}), (4, 10, {'weight': 3}), (5, 6, {'weight': 5}), (5, 10, {'weight': 3}), (5, 16, {'weight': 3}), (6, 16, {'weight': 3}), (8, 30, {'weight': 3}), (8, 32, {'weight': 3}), (8, 33, {'weight': 4}), (9, 33, {'weight': 2}), (13, 33, {'weight': 3}), (14, 32, {'weight': 3}), (14, 33, {'weight': 2}), (15, 32, {'weight': 3}), (15, 33, {'weight': 4}), (18, 32, {'weight': 1}), (18, 33, {'weight': 2}), (19, 33, {'weight': 1}), (20, 32, {'weight': 3}), (20, 33, {'weight': 1}), (22, 32, {'weight': 2}), (22, 33, {'weight': 3}), (23, 25, {'weight': 5}), (23, 27, {'weight': 4}), (23, 29, {'weight': 3}), (23, 32, {'weight': 5}), (23, 33, {'weight': 4}), (24, 25, {'weight': 2}), (24, 27, {'weight': 3}), (24, 31, {'weight': 2}), (25, 31, {'weight': 7}), (26, 29, {'weight': 4}), (26, 33, {'weight': 2}), (27, 33, {'weight': 4}), (28, 31, {'weight': 2}), (28, 33, {'weight': 2}), (29, 32, {'weight': 4}), (29, 33, {'weight': 2}), (30, 32, {'weight': 3}), (30, 33, {'weight': 3}), (31, 32, {'weight': 4}), (31, 33, {'weight': 4}), (32, 33, {'weight': 5})]\n",
            "Node 0 walk 1: [0, 21]\n",
            "Node 0 walk 2: [0, 8, 32, 33]\n",
            "Node 0 walk 3: [0, 5, 6, 16]\n",
            "Node 0 walk 4: [0, 21]\n",
            "Node 0 walk 5: [0, 1, 3, 7]\n",
            "Node 0 walk 6: [0, 21]\n",
            "Node 1 walk 1: [1, 17]\n",
            "Node 1 walk 2: [1, 19, 33]\n",
            "Node 1 walk 3: [1, 19, 33]\n",
            "Node 1 walk 4: [1, 19, 33]\n",
            "Node 1 walk 5: [1, 19, 33]\n",
            "Node 1 walk 6: [1, 30, 33]\n",
            "Node 2 walk 1: [2, 13, 33]\n",
            "Node 2 walk 2: [2, 32, 33]\n",
            "Node 2 walk 3: [2, 7]\n",
            "Node 2 walk 4: [2, 7]\n",
            "Node 2 walk 5: [2, 27, 33]\n",
            "Node 2 walk 6: [2, 7]\n",
            "Node 3 walk 1: [3, 12]\n",
            "Node 3 walk 2: [3, 12]\n",
            "Node 3 walk 3: [3, 13, 33]\n",
            "Node 3 walk 4: [3, 7]\n",
            "Node 3 walk 5: [3, 7]\n",
            "Node 3 walk 6: [3, 7]\n",
            "Node 4 walk 1: [4, 6, 16]\n",
            "Node 4 walk 2: [4, 6, 16]\n",
            "Node 4 walk 3: [4, 10]\n",
            "Node 4 walk 4: [4, 10]\n",
            "Node 4 walk 5: [4, 10]\n",
            "Node 4 walk 6: [4, 10]\n",
            "Node 5 walk 1: [5, 10]\n",
            "Node 5 walk 2: [5, 16]\n",
            "Node 5 walk 3: [5, 6, 16]\n",
            "Node 5 walk 4: [5, 16]\n",
            "Node 5 walk 5: [5, 10]\n",
            "Node 5 walk 6: [5, 6, 16]\n",
            "Node 6 walk 1: [6, 16]\n",
            "Node 6 walk 2: [6, 16]\n",
            "Node 6 walk 3: [6, 16]\n",
            "Node 6 walk 4: [6, 16]\n",
            "Node 6 walk 5: [6, 16]\n",
            "Node 6 walk 6: [6, 16]\n",
            "Node 7 walk 1: [7]\n",
            "Node 7 walk 2: [7]\n",
            "Node 7 walk 3: [7]\n",
            "Node 7 walk 4: [7]\n",
            "Node 7 walk 5: [7]\n",
            "Node 7 walk 6: [7]\n",
            "Node 8 walk 1: [8, 30, 33]\n",
            "Node 8 walk 2: [8, 33]\n",
            "Node 8 walk 3: [8, 33]\n",
            "Node 8 walk 4: [8, 32, 33]\n",
            "Node 8 walk 5: [8, 32, 33]\n",
            "Node 8 walk 6: [8, 32, 33]\n",
            "Node 9 walk 1: [9, 33]\n",
            "Node 9 walk 2: [9, 33]\n",
            "Node 9 walk 3: [9, 33]\n",
            "Node 9 walk 4: [9, 33]\n",
            "Node 9 walk 5: [9, 33]\n",
            "Node 9 walk 6: [9, 33]\n",
            "Node 10 walk 1: [10]\n",
            "Node 10 walk 2: [10]\n",
            "Node 10 walk 3: [10]\n",
            "Node 10 walk 4: [10]\n",
            "Node 10 walk 5: [10]\n",
            "Node 10 walk 6: [10]\n",
            "Node 11 walk 1: [11]\n",
            "Node 11 walk 2: [11]\n",
            "Node 11 walk 3: [11]\n",
            "Node 11 walk 4: [11]\n",
            "Node 11 walk 5: [11]\n",
            "Node 11 walk 6: [11]\n",
            "Node 12 walk 1: [12]\n",
            "Node 12 walk 2: [12]\n",
            "Node 12 walk 3: [12]\n",
            "Node 12 walk 4: [12]\n",
            "Node 12 walk 5: [12]\n",
            "Node 12 walk 6: [12]\n",
            "Node 13 walk 1: [13, 33]\n",
            "Node 13 walk 2: [13, 33]\n",
            "Node 13 walk 3: [13, 33]\n",
            "Node 13 walk 4: [13, 33]\n",
            "Node 13 walk 5: [13, 33]\n",
            "Node 13 walk 6: [13, 33]\n",
            "Node 14 walk 1: [14, 33]\n",
            "Node 14 walk 2: [14, 32, 33]\n",
            "Node 14 walk 3: [14, 32, 33]\n",
            "Node 14 walk 4: [14, 33]\n",
            "Node 14 walk 5: [14, 32, 33]\n",
            "Node 14 walk 6: [14, 32, 33]\n",
            "Node 15 walk 1: [15, 33]\n",
            "Node 15 walk 2: [15, 32, 33]\n",
            "Node 15 walk 3: [15, 32, 33]\n",
            "Node 15 walk 4: [15, 33]\n",
            "Node 15 walk 5: [15, 33]\n",
            "Node 15 walk 6: [15, 32, 33]\n",
            "Node 16 walk 1: [16]\n",
            "Node 16 walk 2: [16]\n",
            "Node 16 walk 3: [16]\n",
            "Node 16 walk 4: [16]\n",
            "Node 16 walk 5: [16]\n",
            "Node 16 walk 6: [16]\n",
            "Node 17 walk 1: [17]\n",
            "Node 17 walk 2: [17]\n",
            "Node 17 walk 3: [17]\n",
            "Node 17 walk 4: [17]\n",
            "Node 17 walk 5: [17]\n",
            "Node 17 walk 6: [17]\n",
            "Node 18 walk 1: [18, 33]\n",
            "Node 18 walk 2: [18, 32, 33]\n",
            "Node 18 walk 3: [18, 33]\n",
            "Node 18 walk 4: [18, 33]\n",
            "Node 18 walk 5: [18, 33]\n",
            "Node 18 walk 6: [18, 32, 33]\n",
            "Node 19 walk 1: [19, 33]\n",
            "Node 19 walk 2: [19, 33]\n",
            "Node 19 walk 3: [19, 33]\n",
            "Node 19 walk 4: [19, 33]\n",
            "Node 19 walk 5: [19, 33]\n",
            "Node 19 walk 6: [19, 33]\n",
            "Node 20 walk 1: [20, 33]\n",
            "Node 20 walk 2: [20, 33]\n",
            "Node 20 walk 3: [20, 33]\n",
            "Node 20 walk 4: [20, 33]\n",
            "Node 20 walk 5: [20, 32, 33]\n",
            "Node 20 walk 6: [20, 32, 33]\n",
            "Node 21 walk 1: [21]\n",
            "Node 21 walk 2: [21]\n",
            "Node 21 walk 3: [21]\n",
            "Node 21 walk 4: [21]\n",
            "Node 21 walk 5: [21]\n",
            "Node 21 walk 6: [21]\n",
            "Node 22 walk 1: [22, 33]\n",
            "Node 22 walk 2: [22, 33]\n",
            "Node 22 walk 3: [22, 33]\n",
            "Node 22 walk 4: [22, 32, 33]\n",
            "Node 22 walk 5: [22, 32, 33]\n",
            "Node 22 walk 6: [22, 32, 33]\n",
            "Node 23 walk 1: [23, 29, 32, 33]\n",
            "Node 23 walk 2: [23, 25, 31, 32, 33]\n",
            "Node 23 walk 3: [23, 29, 33]\n",
            "Node 23 walk 4: [23, 32, 33]\n",
            "Node 23 walk 5: [23, 32, 33]\n",
            "Node 23 walk 6: [23, 25, 31, 32, 33]\n",
            "Node 24 walk 1: [24, 31, 32, 33]\n",
            "Node 24 walk 2: [24, 27, 33]\n",
            "Node 24 walk 3: [24, 25, 31, 33]\n",
            "Node 24 walk 4: [24, 27, 33]\n",
            "Node 24 walk 5: [24, 25, 31, 33]\n",
            "Node 24 walk 6: [24, 27, 33]\n",
            "Node 25 walk 1: [25, 31, 32, 33]\n",
            "Node 25 walk 2: [25, 31, 33]\n",
            "Node 25 walk 3: [25, 31, 32, 33]\n",
            "Node 25 walk 4: [25, 31, 32, 33]\n",
            "Node 25 walk 5: [25, 31, 32, 33]\n",
            "Node 25 walk 6: [25, 31, 32, 33]\n",
            "Node 26 walk 1: [26, 29, 32, 33]\n",
            "Node 26 walk 2: [26, 29, 32, 33]\n",
            "Node 26 walk 3: [26, 33]\n",
            "Node 26 walk 4: [26, 33]\n",
            "Node 26 walk 5: [26, 29, 32, 33]\n",
            "Node 26 walk 6: [26, 33]\n",
            "Node 27 walk 1: [27, 33]\n",
            "Node 27 walk 2: [27, 33]\n",
            "Node 27 walk 3: [27, 33]\n",
            "Node 27 walk 4: [27, 33]\n",
            "Node 27 walk 5: [27, 33]\n",
            "Node 27 walk 6: [27, 33]\n",
            "Node 28 walk 1: [28, 31, 33]\n",
            "Node 28 walk 2: [28, 33]\n",
            "Node 28 walk 3: [28, 33]\n",
            "Node 28 walk 4: [28, 33]\n",
            "Node 28 walk 5: [28, 31, 33]\n",
            "Node 28 walk 6: [28, 31, 33]\n",
            "Node 29 walk 1: [29, 32, 33]\n",
            "Node 29 walk 2: [29, 33]\n",
            "Node 29 walk 3: [29, 33]\n",
            "Node 29 walk 4: [29, 32, 33]\n",
            "Node 29 walk 5: [29, 32, 33]\n",
            "Node 29 walk 6: [29, 32, 33]\n",
            "Node 30 walk 1: [30, 32, 33]\n",
            "Node 30 walk 2: [30, 33]\n",
            "Node 30 walk 3: [30, 32, 33]\n",
            "Node 30 walk 4: [30, 32, 33]\n",
            "Node 30 walk 5: [30, 32, 33]\n",
            "Node 30 walk 6: [30, 33]\n",
            "Node 31 walk 1: [31, 32, 33]\n",
            "Node 31 walk 2: [31, 32, 33]\n",
            "Node 31 walk 3: [31, 33]\n",
            "Node 31 walk 4: [31, 32, 33]\n",
            "Node 31 walk 5: [31, 32, 33]\n",
            "Node 31 walk 6: [31, 33]\n",
            "Node 32 walk 1: [32, 33]\n",
            "Node 32 walk 2: [32, 33]\n",
            "Node 32 walk 3: [32, 33]\n",
            "Node 32 walk 4: [32, 33]\n",
            "Node 32 walk 5: [32, 33]\n",
            "Node 32 walk 6: [32, 33]\n",
            "Node 33 walk 1: [33]\n",
            "Node 33 walk 2: [33]\n",
            "Node 33 walk 3: [33]\n",
            "Node 33 walk 4: [33]\n",
            "Node 33 walk 5: [33]\n",
            "Node 33 walk 6: [33]\n"
          ]
        }
      ]
    }
  ]
}