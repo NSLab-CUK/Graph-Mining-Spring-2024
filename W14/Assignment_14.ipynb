{
 "cells": [
  {
   "cell_type": "markdown",
   "id": "ccb9efa1",
   "metadata": {},
   "source": [
    "# **The purpose of the final assignment is to review knowledge for the final exam. Look at Practice 14 and choose or make your example to do the assignment.**"
   ]
  },
  {
   "cell_type": "markdown",
   "id": "822e7281",
   "metadata": {},
   "source": [
    "# **1/Centrality Measures: Betweenness, Closeness, PageRank Centrality**"
   ]
  },
  {
   "cell_type": "markdown",
   "id": "f2ad8432",
   "metadata": {},
   "source": [
    "# **2/Graph Measurements: Conductance, Modularity, Clustering Coefficients**"
   ]
  },
  {
   "cell_type": "markdown",
   "id": "86783f6f",
   "metadata": {},
   "source": [
    "# **3/Additional Metrics: Jaccard’s Coefficient, Katz Index**"
   ]
  },
  {
   "cell_type": "markdown",
   "id": "18211d29",
   "metadata": {},
   "source": [
    "# **4/Graph Kernels: Shortest Path Kernel, Weisfeiler-Lehman Kernel**\n"
   ]
  },
  {
   "cell_type": "markdown",
   "id": "fa14a144",
   "metadata": {},
   "source": [
    "# **5/node2vec: Scalable Feature Learning for Networks**"
   ]
  },
  {
   "cell_type": "markdown",
   "id": "16b0ca15",
   "metadata": {},
   "source": [
    "# **6/Don't Walk, Skip! Online Learning of Multi-scale Network Embeddings (Walklets)**"
   ]
  },
  {
   "cell_type": "markdown",
   "id": "0a891b31",
   "metadata": {},
   "source": [
    "# **6/LINE: Large-scale Information Network Embedding**\n"
   ]
  },
  {
   "cell_type": "markdown",
   "id": "a21c5467",
   "metadata": {},
   "source": [
    "# **7/Asymmetric Transitivity Preserving Graph Embedding (HOPE)**"
   ]
  },
  {
   "cell_type": "markdown",
   "id": "34f58329",
   "metadata": {},
   "source": [
    "# **8/Struc2Vec: Learning Node Representations from Structural Identity**"
   ]
  },
  {
   "cell_type": "markdown",
   "id": "da7cdb56",
   "metadata": {},
   "source": [
    "# **9/Learning Role-Based Graph Embeddings (Role2Vec)**"
   ]
  },
  {
   "cell_type": "markdown",
   "id": "1b605cc1",
   "metadata": {},
   "source": [
    "# **10/metapath2vec: Scalable Representation Learning for Heterogeneous Networks**\n"
   ]
  },
  {
   "cell_type": "markdown",
   "id": "bd100748",
   "metadata": {},
   "source": [
    "# **11/dynnode2vec: Scalable Dynamic Network Embedding**\n"
   ]
  },
  {
   "cell_type": "markdown",
   "id": "6c097cc9",
   "metadata": {},
   "source": [
    "# **12/Continuous-Time Dynamic Network Embeddings (CTDNE)**"
   ]
  }
 ],
 "metadata": {
  "kernelspec": {
   "display_name": "Python 3 (ipykernel)",
   "language": "python",
   "name": "python3"
  },
  "language_info": {
   "codemirror_mode": {
    "name": "ipython",
    "version": 3
   },
   "file_extension": ".py",
   "mimetype": "text/x-python",
   "name": "python",
   "nbconvert_exporter": "python",
   "pygments_lexer": "ipython3",
   "version": "3.10.12"
  }
 },
 "nbformat": 4,
 "nbformat_minor": 5
}
