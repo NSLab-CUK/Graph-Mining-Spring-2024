{
 "cells": [
  {
   "cell_type": "markdown",
   "id": "822e7281",
   "metadata": {},
   "source": [
    "# **1/Centrality Measures: Betweenness, Closeness, PageRank Centrality, use nx.karate_club_graph**"
   ]
  },
  {
   "cell_type": "markdown",
   "id": "f2ad8432",
   "metadata": {},
   "source": [
    "# **2/Graph Measurements: Conductance, Modularity, Clustering Coefficients, use nx.karate_club_graph with A = [0,1,2,3,4] and B =[5,6,7,8,9] for conductance**"
   ]
  },
  {
   "cell_type": "markdown",
   "id": "86783f6f",
   "metadata": {},
   "source": [
    "# **3/Additional Metrics: Jaccard’s Coefficient, Katz Index, use nx.karate_club_graph**"
   ]
  },
  {
   "cell_type": "markdown",
   "id": "18211d29",
   "metadata": {},
   "source": [
    "# **4/Graph Kernels: Shortest Path Kernel, Weisfeiler-Lehman Kernel with given example below**\n"
   ]
  },
  {
   "cell_type": "code",
   "execution_count": 6,
   "id": "89043aa3",
   "metadata": {},
   "outputs": [
    {
     "data": {
      "image/png": "[encoded data removed]",
      "text/plain": [
       "<Figure size 640x480 with 1 Axes>"
      ]
     },
     "metadata": {},
     "output_type": "display_data"
    }
   ],
   "source": [
    "# For shortest path algorithms kernel\n",
    "G1 = nx.path_graph(4)\n",
    "nx.set_node_attributes(G1, {0:'a', 1:'b', 2:'c', 3:'d'}, 'label')\n",
    "nx.draw(G1, with_labels=True)\n",
    "\n",
    "G2 = nx.path_graph(4)\n",
    "nx.set_node_attributes(G2, {0:'a', 1:'a', 2:'b', 3:'c'}, 'label')\n",
    "nx.draw(G2, with_labels=True)\n",
    "\n",
    "# For Weisfeiler Lehman\n",
    "G1 = nx.Graph()\n",
    "G1.add_edges_from(\n",
    "    [\n",
    "        (1, 2, {\"label\": \"A\"}),\n",
    "        (2, 3, {\"label\": \"A\"}),\n",
    "        (3, 1, {\"label\": \"A\"}),\n",
    "        (1, 4, {\"label\": \"B\"}),\n",
    "    ]\n",
    ")\n",
    "G1_node_attributes = {\n",
    "    1: \"A\",\n",
    "    2: \"B\",\n",
    "    3: \"C\",\n",
    "    4: \"D\",\n",
    "}\n",
    "nx.set_node_attributes(G1, G1_node_attributes, name=\"label\")\n",
    "\n",
    "G2 = nx.Graph()\n",
    "G2.add_edges_from(\n",
    "    [\n",
    "        (5, 6, {\"label\": \"B\"}),\n",
    "        (6, 7, {\"label\": \"A\"}),\n",
    "        (7, 5, {\"label\": \"A\"}),\n",
    "        (7, 8, {\"label\": \"A\"}),\n",
    "    ]\n",
    ")\n",
    "G2_node_attributes = {\n",
    "    5: \"E\",\n",
    "    6: \"F\",\n",
    "    7: \"G\",\n",
    "    8: \"H\",\n",
    "}\n",
    "nx.set_node_attributes(G2, G2_node_attributes, name=\"label\")"
   ]
  },
  {
   "cell_type": "markdown",
   "id": "fa14a144",
   "metadata": {},
   "source": [
    "# **5/node2vec: Scalable Feature Learning for Networks, use nx.karate_club_graph**"
   ]
  },
  {
   "cell_type": "markdown",
   "id": "16b0ca15",
   "metadata": {},
   "source": [
    "# **6/Don't Walk, Skip! Online Learning of Multi-scale Network Embeddings (Walklets), use nx.karate_club_graph**"
   ]
  },
  {
   "cell_type": "markdown",
   "id": "0a891b31",
   "metadata": {},
   "source": [
    "# **7/LINE: Large-scale Information Network Embedding, use nx.karate_club_graph**\n"
   ]
  },
  {
   "cell_type": "markdown",
   "id": "a21c5467",
   "metadata": {},
   "source": [
    "# **8/Asymmetric Transitivity Preserving Graph Embedding (HOPE)**"
   ]
  },
  {
   "cell_type": "markdown",
   "id": "34f58329",
   "metadata": {},
   "source": [
    "# **9/Struc2Vec: Learning Node Representations from Structural Identity, use nx.karate_club_graph**"
   ]
  },
  {
   "cell_type": "markdown",
   "id": "da7cdb56",
   "metadata": {},
   "source": [
    "# **10/Learning Role-Based Graph Embeddings (Role2Vec), use nx.karate_club_graph**"
   ]
  },
  {
   "cell_type": "markdown",
   "id": "1b605cc1",
   "metadata": {},
   "source": [
    "# **11/metapath2vec: Scalable Representation Learning for Heterogeneous Networks, use nx.karate_club_graph**\n"
   ]
  },
  {
   "cell_type": "markdown",
   "id": "bd100748",
   "metadata": {},
   "source": [
    "# **12/dynnode2vec: Scalable Dynamic Network Embedding, use nx.karate_club_graph**\n"
   ]
  },
  {
   "cell_type": "markdown",
   "id": "6c097cc9",
   "metadata": {},
   "source": [
    "# **13/Continuous-Time Dynamic Network Embeddings (CTDNE), use nx.karate_club_graph**"
   ]
  }
 ],
 "metadata": {
  "kernelspec": {
   "display_name": "Python 3 (ipykernel)",
   "language": "python",
   "name": "python3"
  },
  "language_info": {
   "codemirror_mode": {
    "name": "ipython",
    "version": 3
   },
   "file_extension": ".py",
   "mimetype": "text/x-python",
   "name": "python",
   "nbconvert_exporter": "python",
   "pygments_lexer": "ipython3",
   "version": "3.11.5"
  }
 },
 "nbformat": 4,
 "nbformat_minor": 5
}
