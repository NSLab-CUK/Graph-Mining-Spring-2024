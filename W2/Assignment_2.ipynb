{
 "cells": [
  {
   "cell_type": "markdown",
   "id": "09156db2",
   "metadata": {},
   "source": [
    "# Graph Representation\n",
    "## 1. Create a random graph with the following conditions:\n",
    "  - This is a weighted and directed graph.\n",
    "  - The number of nodes: 6.\n",
    "  - The number of edges: 10.\n",
    "  - The weight of each edge is a random float number from 1 to 10.\n",
    "  - Each node has a label which is an uppercase alphabet character from A to F.\n",
    "  - You can use networkx or define your own Graph class.\n",
    "\n"
   ]
  },
  {
   "cell_type": "markdown",
   "id": "5213e8c3",
   "metadata": {},
   "source": [
    "## 2. Use the graph from requirement 1 to solve these problems:\n",
    " + Display the sparse and dense adjacency matrix of this graph.\n",
    " + Display the adjacency list.\n",
    " + Calculate the graph diameter.\n",
    " + Print the number of in-edges and out-edges of a node which entered from the keyboard.\n",
    " + Write a function to print the shortest path of 2 nodes.\n",
    " + Write functions to print all in-edges and out-edges of a node.\n",
    "\n",
    " \n",
    "\n"
   ]
  },
  {
   "cell_type": "markdown",
   "id": "be88883b",
   "metadata": {},
   "source": [
    "## 3. Write a program to read a file containing edge information of an undirected graph and store its dense adjacency matrix into a file.\n",
    "### Input: a file has format as follow: \n",
    "Node1 Node2 Weight<br />\n",
    "0 &nbsp;&nbsp;&nbsp;&nbsp;&nbsp;&nbsp;&nbsp; 1 &nbsp;&nbsp;&nbsp;&nbsp;&nbsp;&nbsp;&nbsp;&nbsp; 2<br />\n",
    "0 &nbsp;&nbsp;&nbsp;&nbsp;&nbsp;&nbsp;&nbsp; 2 &nbsp;&nbsp;&nbsp;&nbsp;&nbsp;&nbsp;&nbsp;&nbsp; 4<br />\n",
    "0 &nbsp;&nbsp;&nbsp;&nbsp;&nbsp;&nbsp;&nbsp; 5 &nbsp;&nbsp;&nbsp;&nbsp;&nbsp;&nbsp;&nbsp;&nbsp; 1<br />\n",
    "1 &nbsp;&nbsp;&nbsp;&nbsp;&nbsp;&nbsp;&nbsp; 3 &nbsp;&nbsp;&nbsp;&nbsp;&nbsp;&nbsp;&nbsp;&nbsp; 5<br />\n",
    "1 &nbsp;&nbsp;&nbsp;&nbsp;&nbsp;&nbsp;&nbsp; 5 &nbsp;&nbsp;&nbsp;&nbsp;&nbsp;&nbsp;&nbsp;&nbsp; 2<br />\n",
    "2 &nbsp;&nbsp;&nbsp;&nbsp;&nbsp;&nbsp;&nbsp; 4 &nbsp;&nbsp;&nbsp;&nbsp;&nbsp;&nbsp;&nbsp;&nbsp; 6<br />\n",
    "3 &nbsp;&nbsp;&nbsp;&nbsp;&nbsp;&nbsp;&nbsp; 4 &nbsp;&nbsp;&nbsp;&nbsp;&nbsp;&nbsp;&nbsp;&nbsp; 3<br />\n",
    "4 &nbsp;&nbsp;&nbsp;&nbsp;&nbsp;&nbsp;&nbsp; 6 &nbsp;&nbsp;&nbsp;&nbsp;&nbsp;&nbsp;&nbsp;&nbsp; 2<br />\n",
    "### Output: a file contains the dense adjacency matrix of this graph.\n",
    "\n",
    "\n"
   ]
  },
  {
   "cell_type": "markdown",
   "id": "30864265",
   "metadata": {},
   "source": [
    "# Centrality Measures\n",
    "## 1. Write code to compute the following four centrality metrics for a graph using Networkx:\n",
    "\n",
    "Reading the Dataset located in: /data/karate_edgelist.txt.\n",
    "Each row denotes the edge between two nodes.\n",
    "Caculate centrality meassures:\n",
    "\n",
    "1. Degree centrality\n",
    "2. Closeness centrality \n",
    "3. Eighvector\n",
    "4. PageRank\n",
    "5. Betweenness centrality\n",
    "6. Katz centrality\n",
    "\n"
   ]
  },
  {
   "cell_type": "markdown",
   "id": "9b8de435",
   "metadata": {},
   "source": [
    "## 2.  Construct a graph from adjacency matrix in the adj_matrix.csv\n",
    "\n",
    "Reading the dataset located in: /data/adj_matrix.csv\n",
    "The file denotes a adjacency matrix of a graph.\n",
    "Caculate centrality meassures:\n",
    "\n",
    "1. Degree centrality\n",
    "2. Closeness centrality\n",
    "3. Eighvector\n",
    "4. PageRank\n",
    "5. Betweenness centrality\n",
    "6. Katz centrality"
   ]
  }
 ],
 "metadata": {
  "kernelspec": {
   "display_name": "Python 3 (ipykernel)",
   "language": "python",
   "name": "python3"
  },
  "language_info": {
   "codemirror_mode": {
    "name": "ipython",
    "version": 3
   },
   "file_extension": ".py",
   "mimetype": "text/x-python",
   "name": "python",
   "nbconvert_exporter": "python",
   "pygments_lexer": "ipython3",
   "version": "3.10.12"
  }
 },
 "nbformat": 4,
 "nbformat_minor": 5
}
