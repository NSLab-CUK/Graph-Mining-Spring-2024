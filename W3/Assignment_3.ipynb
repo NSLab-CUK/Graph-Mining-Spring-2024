{
 "cells": [
  {
   "cell_type": "markdown",
   "id": "09156db2",
   "metadata": {},
   "source": [
    "# 1. Create a friend network that satisfies the following requirements:\r\n",
    "+ This is a weighted graph.\r\n",
    "+ Each friend is a node.\r\n",
    "+ The edge between two nodes is the distance between their homes.\r\n",
    "+ Your friends can be connected.\r\n",
    "+ The graph contains at least 22 people.\r\n",
    "+ Add the edge to show a relationship between friends. Example: best friend, couple, married, etc...\r\n",
    "+ Visualize your graph using spring and circular layouts.\r\n",
    "\r\n",
    "** Following the sample graph in practice, you can create a sample friend network (do not need to be a real network).\r\n"
   ]
  },
  {
   "cell_type": "markdown",
   "id": "5213e8c3",
   "metadata": {},
   "source": [
    "# 2. Draw Betweenness Centrality in a graph:\r\n",
    "+ Load CE_PG graph from the file: [data/CE-PG.txt](https://github.com/NSLab-CUK/Graph-Mining-Spring-2024/tree/main/W3/data/CE-PG.txt) in the class github.\r\n",
    "+ Draw betweenness centrality in the graph with 2 types of layouts: Spring layout and Circular layout.\r\n",
    "+ Save the figures of each layout."
   ]
  },
  {
   "cell_type": "markdown",
   "id": "be88883b",
   "metadata": {},
   "source": [
    "# 3. Complete the following requirements:\r\n",
    "### 3.1. Load graph from edge-list file [data/WormNet.v3.benchmark.txt](https://github.com/NSLab-CUK/Graph-Mining-Spring-2024/tree/main/W3/data/WormNet.v3.benchmark.txt)\r\n",
    "### 3.2. Then, you store this graph in a gexf file.\r\n",
    "### 3.3. Finally, you load this file in Gephi and compute Centrality methods to visualize your graph and save figures for them. Visualizing your graph in circular and spring layouts combined with these methods:\r\n",
    "+ Betweenness Centrality\r\n",
    "+ Degree\r\n",
    "+ Eigen Centrality\r\n",
    "### 3.4. In Gephi, compute the statistic betweenness and centrality. Then, print it as a PDF."
   ]
  }
 ],
 "metadata": {
  "kernelspec": {
   "display_name": "Python 3 (ipykernel)",
   "language": "python",
   "name": "python3"
  },
  "language_info": {
   "codemirror_mode": {
    "name": "ipython",
    "version": 3
   },
   "file_extension": ".py",
   "mimetype": "text/x-python",
   "name": "python",
   "nbconvert_exporter": "python",
   "pygments_lexer": "ipython3",
   "version": "3.11.7"
  }
 },
 "nbformat": 4,
 "nbformat_minor": 5
}
